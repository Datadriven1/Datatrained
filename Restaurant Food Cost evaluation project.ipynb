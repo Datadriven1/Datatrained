{
 "cells": [
  {
   "cell_type": "code",
   "execution_count": 1,
   "metadata": {},
   "outputs": [],
   "source": [
    "import pandas as pd\n",
    "import numpy as np\n",
    "import warnings\n",
    "warnings.filterwarnings('ignore')"
   ]
  },
  {
   "cell_type": "code",
   "execution_count": 2,
   "metadata": {},
   "outputs": [],
   "source": [
    "rd=pd.read_excel('Restaurant Food Cost Data_Train.xlsx')"
   ]
  },
  {
   "cell_type": "code",
   "execution_count": 3,
   "metadata": {},
   "outputs": [
    {
     "data": {
      "text/html": [
       "<div>\n",
       "<style scoped>\n",
       "    .dataframe tbody tr th:only-of-type {\n",
       "        vertical-align: middle;\n",
       "    }\n",
       "\n",
       "    .dataframe tbody tr th {\n",
       "        vertical-align: top;\n",
       "    }\n",
       "\n",
       "    .dataframe thead th {\n",
       "        text-align: right;\n",
       "    }\n",
       "</style>\n",
       "<table border=\"1\" class=\"dataframe\">\n",
       "  <thead>\n",
       "    <tr style=\"text-align: right;\">\n",
       "      <th></th>\n",
       "      <th>TITLE</th>\n",
       "      <th>RESTAURANT_ID</th>\n",
       "      <th>CUISINES</th>\n",
       "      <th>TIME</th>\n",
       "      <th>CITY</th>\n",
       "      <th>LOCALITY</th>\n",
       "      <th>RATING</th>\n",
       "      <th>VOTES</th>\n",
       "      <th>COST</th>\n",
       "    </tr>\n",
       "  </thead>\n",
       "  <tbody>\n",
       "    <tr>\n",
       "      <th>0</th>\n",
       "      <td>CASUAL DINING</td>\n",
       "      <td>9438</td>\n",
       "      <td>Malwani, Goan, North Indian</td>\n",
       "      <td>11am – 4pm, 7:30pm – 11:30pm (Mon-Sun)</td>\n",
       "      <td>Thane</td>\n",
       "      <td>Dombivali East</td>\n",
       "      <td>3.6</td>\n",
       "      <td>49 votes</td>\n",
       "      <td>1200</td>\n",
       "    </tr>\n",
       "    <tr>\n",
       "      <th>1</th>\n",
       "      <td>CASUAL DINING,BAR</td>\n",
       "      <td>13198</td>\n",
       "      <td>Asian, Modern Indian, Japanese</td>\n",
       "      <td>6pm – 11pm (Mon-Sun)</td>\n",
       "      <td>Chennai</td>\n",
       "      <td>Ramapuram</td>\n",
       "      <td>4.2</td>\n",
       "      <td>30 votes</td>\n",
       "      <td>1500</td>\n",
       "    </tr>\n",
       "    <tr>\n",
       "      <th>2</th>\n",
       "      <td>CASUAL DINING</td>\n",
       "      <td>10915</td>\n",
       "      <td>North Indian, Chinese, Biryani, Hyderabadi</td>\n",
       "      <td>11am – 3:30pm, 7pm – 11pm (Mon-Sun)</td>\n",
       "      <td>Chennai</td>\n",
       "      <td>Saligramam</td>\n",
       "      <td>3.8</td>\n",
       "      <td>221 votes</td>\n",
       "      <td>800</td>\n",
       "    </tr>\n",
       "    <tr>\n",
       "      <th>3</th>\n",
       "      <td>QUICK BITES</td>\n",
       "      <td>6346</td>\n",
       "      <td>Tibetan, Chinese</td>\n",
       "      <td>11:30am – 1am (Mon-Sun)</td>\n",
       "      <td>Mumbai</td>\n",
       "      <td>Bandra West</td>\n",
       "      <td>4.1</td>\n",
       "      <td>24 votes</td>\n",
       "      <td>800</td>\n",
       "    </tr>\n",
       "    <tr>\n",
       "      <th>4</th>\n",
       "      <td>DESSERT PARLOR</td>\n",
       "      <td>15387</td>\n",
       "      <td>Desserts</td>\n",
       "      <td>11am – 1am (Mon-Sun)</td>\n",
       "      <td>Mumbai</td>\n",
       "      <td>Lower Parel</td>\n",
       "      <td>3.8</td>\n",
       "      <td>165 votes</td>\n",
       "      <td>300</td>\n",
       "    </tr>\n",
       "    <tr>\n",
       "      <th>...</th>\n",
       "      <td>...</td>\n",
       "      <td>...</td>\n",
       "      <td>...</td>\n",
       "      <td>...</td>\n",
       "      <td>...</td>\n",
       "      <td>...</td>\n",
       "      <td>...</td>\n",
       "      <td>...</td>\n",
       "      <td>...</td>\n",
       "    </tr>\n",
       "    <tr>\n",
       "      <th>12685</th>\n",
       "      <td>QUICK BITES</td>\n",
       "      <td>13228</td>\n",
       "      <td>North Indian, Burger, Kebab</td>\n",
       "      <td>12noon – 12midnight (Mon, Tue, Wed, Thu, Sun)...</td>\n",
       "      <td>Hyderabad</td>\n",
       "      <td>Gachibowli</td>\n",
       "      <td>3.8</td>\n",
       "      <td>546 votes</td>\n",
       "      <td>500</td>\n",
       "    </tr>\n",
       "    <tr>\n",
       "      <th>12686</th>\n",
       "      <td>CASUAL DINING,BAR</td>\n",
       "      <td>9686</td>\n",
       "      <td>Goan, Continental</td>\n",
       "      <td>12noon – 1am (Mon-Fri),11am – 5pm, 7pm – 1am...</td>\n",
       "      <td>Mumbai</td>\n",
       "      <td>Bandra Kurla Complex</td>\n",
       "      <td>4.3</td>\n",
       "      <td>1214 votes</td>\n",
       "      <td>1800</td>\n",
       "    </tr>\n",
       "    <tr>\n",
       "      <th>12687</th>\n",
       "      <td>LOUNGE</td>\n",
       "      <td>11133</td>\n",
       "      <td>Finger Food, Continental, Asian, Chinese</td>\n",
       "      <td>12noon – 12:30AM (Mon-Sun)</td>\n",
       "      <td>Navi Mumbai</td>\n",
       "      <td>Vashi</td>\n",
       "      <td>4.0</td>\n",
       "      <td>608 votes</td>\n",
       "      <td>1300</td>\n",
       "    </tr>\n",
       "    <tr>\n",
       "      <th>12688</th>\n",
       "      <td>CASUAL DINING</td>\n",
       "      <td>6134</td>\n",
       "      <td>North Indian, South Indian, Chinese, Street Food</td>\n",
       "      <td>6am – 10:45pm (Mon-Sun)</td>\n",
       "      <td>Chennai</td>\n",
       "      <td>Maduravoyal</td>\n",
       "      <td>3.5</td>\n",
       "      <td>32 votes</td>\n",
       "      <td>400</td>\n",
       "    </tr>\n",
       "    <tr>\n",
       "      <th>12689</th>\n",
       "      <td>CASUAL DINING</td>\n",
       "      <td>6430</td>\n",
       "      <td>North Indian, Chinese</td>\n",
       "      <td>12:30pm – 11pm (Mon-Sun)</td>\n",
       "      <td>Hyderabad</td>\n",
       "      <td>Vanasthalipuram</td>\n",
       "      <td>3.4</td>\n",
       "      <td>677 votes</td>\n",
       "      <td>600</td>\n",
       "    </tr>\n",
       "  </tbody>\n",
       "</table>\n",
       "<p>12690 rows × 9 columns</p>\n",
       "</div>"
      ],
      "text/plain": [
       "                   TITLE  RESTAURANT_ID  \\\n",
       "0          CASUAL DINING           9438   \n",
       "1      CASUAL DINING,BAR          13198   \n",
       "2          CASUAL DINING          10915   \n",
       "3            QUICK BITES           6346   \n",
       "4         DESSERT PARLOR          15387   \n",
       "...                  ...            ...   \n",
       "12685        QUICK BITES          13228   \n",
       "12686  CASUAL DINING,BAR           9686   \n",
       "12687             LOUNGE          11133   \n",
       "12688      CASUAL DINING           6134   \n",
       "12689      CASUAL DINING           6430   \n",
       "\n",
       "                                               CUISINES  \\\n",
       "0                           Malwani, Goan, North Indian   \n",
       "1                        Asian, Modern Indian, Japanese   \n",
       "2            North Indian, Chinese, Biryani, Hyderabadi   \n",
       "3                                      Tibetan, Chinese   \n",
       "4                                              Desserts   \n",
       "...                                                 ...   \n",
       "12685                       North Indian, Burger, Kebab   \n",
       "12686                                 Goan, Continental   \n",
       "12687          Finger Food, Continental, Asian, Chinese   \n",
       "12688  North Indian, South Indian, Chinese, Street Food   \n",
       "12689                             North Indian, Chinese   \n",
       "\n",
       "                                                   TIME         CITY  \\\n",
       "0                11am – 4pm, 7:30pm – 11:30pm (Mon-Sun)        Thane   \n",
       "1                                  6pm – 11pm (Mon-Sun)      Chennai   \n",
       "2                   11am – 3:30pm, 7pm – 11pm (Mon-Sun)      Chennai   \n",
       "3                               11:30am – 1am (Mon-Sun)       Mumbai   \n",
       "4                                  11am – 1am (Mon-Sun)       Mumbai   \n",
       "...                                                 ...          ...   \n",
       "12685  12noon – 12midnight (Mon, Tue, Wed, Thu, Sun)...    Hyderabad   \n",
       "12686   12noon – 1am (Mon-Fri),11am – 5pm, 7pm – 1am...       Mumbai   \n",
       "12687                        12noon – 12:30AM (Mon-Sun)  Navi Mumbai   \n",
       "12688                           6am – 10:45pm (Mon-Sun)      Chennai   \n",
       "12689                          12:30pm – 11pm (Mon-Sun)    Hyderabad   \n",
       "\n",
       "                   LOCALITY RATING       VOTES  COST  \n",
       "0            Dombivali East    3.6    49 votes  1200  \n",
       "1                 Ramapuram    4.2    30 votes  1500  \n",
       "2                Saligramam    3.8   221 votes   800  \n",
       "3               Bandra West    4.1    24 votes   800  \n",
       "4               Lower Parel    3.8   165 votes   300  \n",
       "...                     ...    ...         ...   ...  \n",
       "12685            Gachibowli    3.8   546 votes   500  \n",
       "12686  Bandra Kurla Complex    4.3  1214 votes  1800  \n",
       "12687                 Vashi    4.0   608 votes  1300  \n",
       "12688           Maduravoyal    3.5    32 votes   400  \n",
       "12689       Vanasthalipuram    3.4   677 votes   600  \n",
       "\n",
       "[12690 rows x 9 columns]"
      ]
     },
     "execution_count": 3,
     "metadata": {},
     "output_type": "execute_result"
    }
   ],
   "source": [
    "rd"
   ]
  },
  {
   "cell_type": "code",
   "execution_count": 4,
   "metadata": {},
   "outputs": [
    {
     "data": {
      "text/plain": [
       "TITLE            object\n",
       "RESTAURANT_ID     int64\n",
       "CUISINES         object\n",
       "TIME             object\n",
       "CITY             object\n",
       "LOCALITY         object\n",
       "RATING           object\n",
       "VOTES            object\n",
       "COST              int64\n",
       "dtype: object"
      ]
     },
     "execution_count": 4,
     "metadata": {},
     "output_type": "execute_result"
    }
   ],
   "source": [
    "rd.dtypes"
   ]
  },
  {
   "cell_type": "code",
   "execution_count": 5,
   "metadata": {},
   "outputs": [
    {
     "data": {
      "text/plain": [
       "TITLE               0\n",
       "RESTAURANT_ID       0\n",
       "CUISINES            0\n",
       "TIME                0\n",
       "CITY              112\n",
       "LOCALITY           98\n",
       "RATING              2\n",
       "VOTES            1204\n",
       "COST                0\n",
       "dtype: int64"
      ]
     },
     "execution_count": 5,
     "metadata": {},
     "output_type": "execute_result"
    }
   ],
   "source": [
    "# Checking null values\n",
    "rd.isnull().sum()"
   ]
  },
  {
   "cell_type": "code",
   "execution_count": 6,
   "metadata": {},
   "outputs": [],
   "source": [
    "rd['RATING'].replace( 'NEW', 0, inplace=True)\n",
    "rd['RATING'].replace( '-', 0, inplace=True)"
   ]
  },
  {
   "cell_type": "code",
   "execution_count": 7,
   "metadata": {},
   "outputs": [
    {
     "data": {
      "text/plain": [
       "<matplotlib.axes._subplots.AxesSubplot at 0x265e2b83670>"
      ]
     },
     "execution_count": 7,
     "metadata": {},
     "output_type": "execute_result"
    },
    {
     "data": {
      "image/png": "[encoded data removed]",
      "text/plain": [
       "<Figure size 432x288 with 2 Axes>"
      ]
     },
     "metadata": {
      "needs_background": "light"
     },
     "output_type": "display_data"
    }
   ],
   "source": [
    "# Checking null values using heatmap for better understanding\n",
    "import seaborn as sns\n",
    "import matplotlib.pyplot as plt\n",
    "\n",
    "sns.heatmap(rd.isnull())"
   ]
  },
  {
   "cell_type": "code",
   "execution_count": 8,
   "metadata": {},
   "outputs": [
    {
     "data": {
      "text/plain": [
       "300      1595\n",
       "400      1357\n",
       "500      1300\n",
       "200      1031\n",
       "600       806\n",
       "         ... \n",
       "4100        1\n",
       "70          1\n",
       "14000       1\n",
       "1950        1\n",
       "80          1\n",
       "Name: COST, Length: 86, dtype: int64"
      ]
     },
     "execution_count": 8,
     "metadata": {},
     "output_type": "execute_result"
    }
   ],
   "source": [
    "# Checking unique value of cost column\n",
    "rd['COST'].value_counts()\n"
   ]
  },
  {
   "cell_type": "code",
   "execution_count": 9,
   "metadata": {},
   "outputs": [
    {
     "name": "stdout",
     "output_type": "stream",
     "text": [
      "QUICK BITES                    4218\n",
      "CASUAL DINING                  3652\n",
      "None                           1003\n",
      "CAFÉ                            607\n",
      "DESSERT PARLOR                  382\n",
      "                               ... \n",
      "BEVERAGE SHOP,CASUAL DINING       1\n",
      "DESSERT PARLOR,PAAN SHOP          1\n",
      "CAFÉ,LOUNGE                       1\n",
      "CLUB,MICROBREWERY                 1\n",
      "SWEET SHOP,CONFECTIONERY          1\n",
      "Name: TITLE, Length: 113, dtype: int64\n",
      "**********************************\n",
      "\n",
      "\n",
      "South Indian                                                 532\n",
      "North Indian                                                 526\n",
      "North Indian, Chinese                                        501\n",
      "Fast Food                                                    286\n",
      "Chinese                                                      167\n",
      "                                                            ... \n",
      "Continental, European, Asian, Seafood, Spanish                 1\n",
      "Cafe, Burger, Sandwich                                         1\n",
      "European, Chinese, North Indian, Italian                       1\n",
      "Japanese, Italian, North Indian, Chinese                       1\n",
      "Chinese, North Indian, Fast Food, South Indian, Beverages      1\n",
      "Name: CUISINES, Length: 4155, dtype: int64\n",
      "**********************************\n",
      "\n",
      "\n",
      "11am – 11pm (Mon-Sun)                                1415\n",
      "12noon – 12midnight (Mon-Sun)                         469\n",
      "12noon – 11pm (Mon-Sun)                               407\n",
      "11am – 12midnight (Mon-Sun)                           310\n",
      "10am – 10pm (Mon-Sun)                                 221\n",
      "                                                     ... \n",
      "1pm – 4pm, 7pm – 11pm (Mon-Sun)                         1\n",
      "8am – 11am, 12:30pm – 3:30pm, 7:30pm –...               1\n",
      "8am – 11pm (Mon-Fri),8am – 7pm (Sat),Closed (Sun)       1\n",
      "7pm – 11pm (Mon),9:30am – 4pm, 6pm – 10:45pm...         1\n",
      "11am – 10pm (Mon, Wed, Thu, Fri), Closed...             1\n",
      "Name: TIME, Length: 2689, dtype: int64\n",
      "**********************************\n",
      "\n",
      "\n",
      "Chennai                                                           2174\n",
      "Bangalore                                                         2149\n",
      "Hyderabad                                                         1819\n",
      "Mumbai                                                            1722\n",
      "New Delhi                                                         1321\n",
      "                                                                  ... \n",
      "TCS Synergy park                                                     1\n",
      "Amrit kaur market opposite new delhi railway station paharganj       1\n",
      "GST Road                                                             1\n",
      "Uttar Pradesh                                                        1\n",
      "Borivali West.                                                       1\n",
      "Name: CITY, Length: 359, dtype: int64\n",
      "**********************************\n",
      "\n",
      "\n",
      "Gachibowli                                                                   166\n",
      "Indiranagar                                                                  138\n",
      "Edappally                                                                    122\n",
      "Kakkanad                                                                     121\n",
      "HSR                                                                          120\n",
      "                                                                            ... \n",
      "Subhash Market                                                                 1\n",
      "Mettuguda                                                                      1\n",
      "sector 42                                                                      1\n",
      "Othavadai Mahabalipuram                                                        1\n",
      "Near Satellite Tower Opposite Santosh Garage Film City Road Goregaon East      1\n",
      "Name: LOCALITY, Length: 1416, dtype: int64\n",
      "**********************************\n",
      "\n",
      "\n",
      "3.9    1238\n",
      "0      1202\n",
      "3.8    1190\n",
      "4.0    1099\n",
      "3.7    1086\n",
      "3.6     951\n",
      "4.1     936\n",
      "3.5     771\n",
      "4.2     723\n",
      "3.4     575\n",
      "4.3     556\n",
      "3.3     365\n",
      "4.4     362\n",
      "3.2     266\n",
      "4.5     199\n",
      "2.9     186\n",
      "3.1     186\n",
      "3.0     170\n",
      "2.8     146\n",
      "4.6     141\n",
      "2.7      89\n",
      "4.7      69\n",
      "2.6      61\n",
      "2.5      35\n",
      "4.8      32\n",
      "4.9      22\n",
      "2.4      15\n",
      "2.3      10\n",
      "2.1       3\n",
      "2.2       2\n",
      "2.0       2\n",
      "Name: RATING, dtype: int64\n",
      "**********************************\n",
      "\n",
      "\n",
      "44 votes      71\n",
      "28 votes      66\n",
      "29 votes      66\n",
      "38 votes      65\n",
      "35 votes      64\n",
      "              ..\n",
      "1584 votes     1\n",
      "2063 votes     1\n",
      "2620 votes     1\n",
      "1489 votes     1\n",
      "2365 votes     1\n",
      "Name: VOTES, Length: 1847, dtype: int64\n",
      "**********************************\n",
      "\n",
      "\n"
     ]
    }
   ],
   "source": [
    "# Checking unique value of object data type's columns.\n",
    "\n",
    "for i in rd.columns:\n",
    "    if rd[i].dtype==object:\n",
    "        print(rd[i].value_counts())\n",
    "        print('**********************************')\n",
    "        print('\\n')"
   ]
  },
  {
   "cell_type": "code",
   "execution_count": 10,
   "metadata": {},
   "outputs": [
    {
     "data": {
      "text/plain": [
       "TITLE               0\n",
       "RESTAURANT_ID       0\n",
       "CUISINES            0\n",
       "TIME                0\n",
       "CITY              112\n",
       "LOCALITY           98\n",
       "RATING              2\n",
       "VOTES            1204\n",
       "COST                0\n",
       "dtype: int64"
      ]
     },
     "execution_count": 10,
     "metadata": {},
     "output_type": "execute_result"
    }
   ],
   "source": [
    "# Checking missing values again\n",
    "rd.isnull().sum()"
   ]
  },
  {
   "cell_type": "code",
   "execution_count": 11,
   "metadata": {},
   "outputs": [],
   "source": [
    "# Falling city,locality and rating columns null values using simpleimputer method\n",
    "from sklearn.impute import SimpleImputer\n",
    "\n",
    "imp=SimpleImputer(strategy='most_frequent')\n",
    "rd['CITY']=imp.fit_transform(rd['CITY'].values.reshape(-1,1))\n",
    "rd['LOCALITY']=imp.fit_transform(rd['LOCALITY'].values.reshape(-1,1))"
   ]
  },
  {
   "cell_type": "code",
   "execution_count": 12,
   "metadata": {},
   "outputs": [],
   "source": [
    "rd['RATING'] = rd['RATING'].astype(float)"
   ]
  },
  {
   "cell_type": "code",
   "execution_count": 13,
   "metadata": {},
   "outputs": [],
   "source": [
    "rd['RATING']=imp.fit_transform(rd['RATING'].values.reshape(-1,1))"
   ]
  },
  {
   "cell_type": "code",
   "execution_count": 14,
   "metadata": {},
   "outputs": [
    {
     "data": {
      "text/plain": [
       "TITLE               0\n",
       "RESTAURANT_ID       0\n",
       "CUISINES            0\n",
       "TIME                0\n",
       "CITY                0\n",
       "LOCALITY            0\n",
       "RATING              0\n",
       "VOTES            1204\n",
       "COST                0\n",
       "dtype: int64"
      ]
     },
     "execution_count": 14,
     "metadata": {},
     "output_type": "execute_result"
    }
   ],
   "source": [
    "rd.isnull().sum()"
   ]
  },
  {
   "cell_type": "code",
   "execution_count": 15,
   "metadata": {},
   "outputs": [],
   "source": [
    "rd['VOTES']=rd['VOTES'].replace([\" votes\"],\"\",regex=True)"
   ]
  },
  {
   "cell_type": "code",
   "execution_count": 16,
   "metadata": {},
   "outputs": [
    {
     "data": {
      "text/plain": [
       "44      71\n",
       "28      66\n",
       "29      66\n",
       "38      65\n",
       "35      64\n",
       "        ..\n",
       "9506     1\n",
       "5627     1\n",
       "908      1\n",
       "4606     1\n",
       "1632     1\n",
       "Name: VOTES, Length: 1847, dtype: int64"
      ]
     },
     "execution_count": 16,
     "metadata": {},
     "output_type": "execute_result"
    }
   ],
   "source": [
    "rd['VOTES'].value_counts()"
   ]
  },
  {
   "cell_type": "code",
   "execution_count": 17,
   "metadata": {},
   "outputs": [],
   "source": [
    "rd['VOTES']=imp.fit_transform(rd['VOTES'].values.reshape(-1,1))"
   ]
  },
  {
   "cell_type": "code",
   "execution_count": 18,
   "metadata": {},
   "outputs": [],
   "source": [
    "rd['VOTES'] = rd['VOTES'].astype(int)"
   ]
  },
  {
   "cell_type": "code",
   "execution_count": 19,
   "metadata": {},
   "outputs": [
    {
     "data": {
      "text/plain": [
       "TITLE             object\n",
       "RESTAURANT_ID      int64\n",
       "CUISINES          object\n",
       "TIME              object\n",
       "CITY              object\n",
       "LOCALITY          object\n",
       "RATING           float64\n",
       "VOTES              int32\n",
       "COST               int64\n",
       "dtype: object"
      ]
     },
     "execution_count": 19,
     "metadata": {},
     "output_type": "execute_result"
    }
   ],
   "source": [
    "rd.dtypes"
   ]
  },
  {
   "cell_type": "code",
   "execution_count": 20,
   "metadata": {},
   "outputs": [],
   "source": [
    "rd_cor=rd.corr()"
   ]
  },
  {
   "cell_type": "code",
   "execution_count": 21,
   "metadata": {},
   "outputs": [
    {
     "data": {
      "text/html": [
       "<div>\n",
       "<style scoped>\n",
       "    .dataframe tbody tr th:only-of-type {\n",
       "        vertical-align: middle;\n",
       "    }\n",
       "\n",
       "    .dataframe tbody tr th {\n",
       "        vertical-align: top;\n",
       "    }\n",
       "\n",
       "    .dataframe thead th {\n",
       "        text-align: right;\n",
       "    }\n",
       "</style>\n",
       "<table border=\"1\" class=\"dataframe\">\n",
       "  <thead>\n",
       "    <tr style=\"text-align: right;\">\n",
       "      <th></th>\n",
       "      <th>RESTAURANT_ID</th>\n",
       "      <th>RATING</th>\n",
       "      <th>VOTES</th>\n",
       "      <th>COST</th>\n",
       "    </tr>\n",
       "  </thead>\n",
       "  <tbody>\n",
       "    <tr>\n",
       "      <th>RESTAURANT_ID</th>\n",
       "      <td>1.000000</td>\n",
       "      <td>0.031314</td>\n",
       "      <td>0.000403</td>\n",
       "      <td>0.040710</td>\n",
       "    </tr>\n",
       "    <tr>\n",
       "      <th>RATING</th>\n",
       "      <td>0.031314</td>\n",
       "      <td>1.000000</td>\n",
       "      <td>0.243875</td>\n",
       "      <td>0.232194</td>\n",
       "    </tr>\n",
       "    <tr>\n",
       "      <th>VOTES</th>\n",
       "      <td>0.000403</td>\n",
       "      <td>0.243875</td>\n",
       "      <td>1.000000</td>\n",
       "      <td>0.255723</td>\n",
       "    </tr>\n",
       "    <tr>\n",
       "      <th>COST</th>\n",
       "      <td>0.040710</td>\n",
       "      <td>0.232194</td>\n",
       "      <td>0.255723</td>\n",
       "      <td>1.000000</td>\n",
       "    </tr>\n",
       "  </tbody>\n",
       "</table>\n",
       "</div>"
      ],
      "text/plain": [
       "               RESTAURANT_ID    RATING     VOTES      COST\n",
       "RESTAURANT_ID       1.000000  0.031314  0.000403  0.040710\n",
       "RATING              0.031314  1.000000  0.243875  0.232194\n",
       "VOTES               0.000403  0.243875  1.000000  0.255723\n",
       "COST                0.040710  0.232194  0.255723  1.000000"
      ]
     },
     "execution_count": 21,
     "metadata": {},
     "output_type": "execute_result"
    }
   ],
   "source": [
    "rd_cor"
   ]
  },
  {
   "cell_type": "code",
   "execution_count": 22,
   "metadata": {},
   "outputs": [
    {
     "data": {
      "text/plain": [
       "<matplotlib.axes._subplots.AxesSubplot at 0x265e3dedaf0>"
      ]
     },
     "execution_count": 22,
     "metadata": {},
     "output_type": "execute_result"
    },
    {
     "data": {
      "image/png": "[encoded data removed]",
      "text/plain": [
       "<Figure size 432x288 with 2 Axes>"
      ]
     },
     "metadata": {
      "needs_background": "light"
     },
     "output_type": "display_data"
    }
   ],
   "source": [
    "sns.heatmap(rd_cor)"
   ]
  },
  {
   "cell_type": "code",
   "execution_count": 23,
   "metadata": {},
   "outputs": [
    {
     "data": {
      "text/plain": [
       "Text(0.5, 1.0, 'Correlation with target Variable')"
      ]
     },
     "execution_count": 23,
     "metadata": {},
     "output_type": "execute_result"
    },
    {
     "data": {
      "image/png": "[encoded data removed]",
      "text/plain": [
       "<Figure size 720x576 with 1 Axes>"
      ]
     },
     "metadata": {
      "needs_background": "light"
     },
     "output_type": "display_data"
    }
   ],
   "source": [
    "plt.figure(figsize=(10,8))\n",
    "rd.drop('COST',axis=1).corrwith(rd['COST']).plot(kind='bar',grid=True)\n",
    "plt.xticks(rotation=20)\n",
    "plt.title('Correlation with target Variable')"
   ]
  },
  {
   "cell_type": "markdown",
   "metadata": {},
   "source": [
    "# Summary Statistics"
   ]
  },
  {
   "cell_type": "code",
   "execution_count": 24,
   "metadata": {},
   "outputs": [
    {
     "data": {
      "text/html": [
       "<div>\n",
       "<style scoped>\n",
       "    .dataframe tbody tr th:only-of-type {\n",
       "        vertical-align: middle;\n",
       "    }\n",
       "\n",
       "    .dataframe tbody tr th {\n",
       "        vertical-align: top;\n",
       "    }\n",
       "\n",
       "    .dataframe thead th {\n",
       "        text-align: right;\n",
       "    }\n",
       "</style>\n",
       "<table border=\"1\" class=\"dataframe\">\n",
       "  <thead>\n",
       "    <tr style=\"text-align: right;\">\n",
       "      <th></th>\n",
       "      <th>RESTAURANT_ID</th>\n",
       "      <th>RATING</th>\n",
       "      <th>VOTES</th>\n",
       "      <th>COST</th>\n",
       "    </tr>\n",
       "  </thead>\n",
       "  <tbody>\n",
       "    <tr>\n",
       "      <th>count</th>\n",
       "      <td>12690.000000</td>\n",
       "      <td>12690.000000</td>\n",
       "      <td>12690.000000</td>\n",
       "      <td>12690.000000</td>\n",
       "    </tr>\n",
       "    <tr>\n",
       "      <th>mean</th>\n",
       "      <td>7759.134121</td>\n",
       "      <td>3.426911</td>\n",
       "      <td>380.405753</td>\n",
       "      <td>655.252246</td>\n",
       "    </tr>\n",
       "    <tr>\n",
       "      <th>std</th>\n",
       "      <td>4504.874150</td>\n",
       "      <td>1.179029</td>\n",
       "      <td>809.110447</td>\n",
       "      <td>627.003540</td>\n",
       "    </tr>\n",
       "    <tr>\n",
       "      <th>min</th>\n",
       "      <td>0.000000</td>\n",
       "      <td>0.000000</td>\n",
       "      <td>4.000000</td>\n",
       "      <td>20.000000</td>\n",
       "    </tr>\n",
       "    <tr>\n",
       "      <th>25%</th>\n",
       "      <td>3863.250000</td>\n",
       "      <td>3.400000</td>\n",
       "      <td>44.000000</td>\n",
       "      <td>300.000000</td>\n",
       "    </tr>\n",
       "    <tr>\n",
       "      <th>50%</th>\n",
       "      <td>7740.000000</td>\n",
       "      <td>3.800000</td>\n",
       "      <td>132.000000</td>\n",
       "      <td>500.000000</td>\n",
       "    </tr>\n",
       "    <tr>\n",
       "      <th>75%</th>\n",
       "      <td>11688.750000</td>\n",
       "      <td>4.000000</td>\n",
       "      <td>405.000000</td>\n",
       "      <td>800.000000</td>\n",
       "    </tr>\n",
       "    <tr>\n",
       "      <th>max</th>\n",
       "      <td>15573.000000</td>\n",
       "      <td>4.900000</td>\n",
       "      <td>41186.000000</td>\n",
       "      <td>14000.000000</td>\n",
       "    </tr>\n",
       "  </tbody>\n",
       "</table>\n",
       "</div>"
      ],
      "text/plain": [
       "       RESTAURANT_ID        RATING         VOTES          COST\n",
       "count   12690.000000  12690.000000  12690.000000  12690.000000\n",
       "mean     7759.134121      3.426911    380.405753    655.252246\n",
       "std      4504.874150      1.179029    809.110447    627.003540\n",
       "min         0.000000      0.000000      4.000000     20.000000\n",
       "25%      3863.250000      3.400000     44.000000    300.000000\n",
       "50%      7740.000000      3.800000    132.000000    500.000000\n",
       "75%     11688.750000      4.000000    405.000000    800.000000\n",
       "max     15573.000000      4.900000  41186.000000  14000.000000"
      ]
     },
     "execution_count": 24,
     "metadata": {},
     "output_type": "execute_result"
    }
   ],
   "source": [
    "# Checking general summary statistics of dataset\n",
    "rd.describe()"
   ]
  },
  {
   "cell_type": "markdown",
   "metadata": {},
   "source": [
    "Observation - There are huge difference between 75% and maximum in votes and cost, So in these columns outliers may be present."
   ]
  },
  {
   "cell_type": "markdown",
   "metadata": {},
   "source": [
    "# Data Visualization"
   ]
  },
  {
   "cell_type": "markdown",
   "metadata": {},
   "source": [
    "Univariate Analysis"
   ]
  },
  {
   "cell_type": "code",
   "execution_count": 25,
   "metadata": {},
   "outputs": [
    {
     "data": {
      "image/png": "[encoded data removed]",
      "text/plain": [
       "<Figure size 864x720 with 1 Axes>"
      ]
     },
     "metadata": {
      "needs_background": "light"
     },
     "output_type": "display_data"
    },
    {
     "name": "stdout",
     "output_type": "stream",
     "text": [
      "3.9    1240\n",
      "0.0    1202\n",
      "3.8    1190\n",
      "4.0    1099\n",
      "3.7    1086\n",
      "3.6     951\n",
      "4.1     936\n",
      "3.5     771\n",
      "4.2     723\n",
      "3.4     575\n",
      "4.3     556\n",
      "3.3     365\n",
      "4.4     362\n",
      "3.2     266\n",
      "4.5     199\n",
      "2.9     186\n",
      "3.1     186\n",
      "3.0     170\n",
      "2.8     146\n",
      "4.6     141\n",
      "2.7      89\n",
      "4.7      69\n",
      "2.6      61\n",
      "2.5      35\n",
      "4.8      32\n",
      "4.9      22\n",
      "2.4      15\n",
      "2.3      10\n",
      "2.1       3\n",
      "2.2       2\n",
      "2.0       2\n",
      "Name: RATING, dtype: int64\n"
     ]
    }
   ],
   "source": [
    "# Checking cost count\n",
    "\n",
    "plt.subplots(figsize=(12,10))\n",
    "sns.countplot(x='RATING',data=rd)\n",
    "plt.title('Count of COST')\n",
    "plt.xlabel('COST')\n",
    "plt.ylabel('COST count')\n",
    "plt.show()\n",
    "\n",
    "print(rd.RATING.value_counts())"
   ]
  },
  {
   "cell_type": "code",
   "execution_count": 26,
   "metadata": {},
   "outputs": [
    {
     "data": {
      "image/png": "[encoded data removed]",
      "text/plain": [
       "<Figure size 432x288 with 1 Axes>"
      ]
     },
     "metadata": {},
     "output_type": "display_data"
    }
   ],
   "source": [
    "# Checking RATING count using violinplot.\n",
    "sns.set(style='whitegrid')\n",
    "sns.violinplot(rd['RATING'])\n",
    "plt.show()"
   ]
  },
  {
   "cell_type": "code",
   "execution_count": 27,
   "metadata": {},
   "outputs": [
    {
     "data": {
      "image/png": "[encoded data removed]",
      "text/plain": [
       "<Figure size 432x288 with 1 Axes>"
      ]
     },
     "metadata": {},
     "output_type": "display_data"
    }
   ],
   "source": [
    "# Checking VOTES count using violinplot.\n",
    "sns.set(style='whitegrid')\n",
    "sns.violinplot(rd['VOTES'])\n",
    "plt.show()"
   ]
  },
  {
   "cell_type": "code",
   "execution_count": 28,
   "metadata": {},
   "outputs": [
    {
     "data": {
      "image/png": "[encoded data removed]",
      "text/plain": [
       "<Figure size 432x288 with 1 Axes>"
      ]
     },
     "metadata": {},
     "output_type": "display_data"
    }
   ],
   "source": [
    "# Checking COST count using violinplot.\n",
    "sns.set(style='whitegrid')\n",
    "sns.violinplot(rd['COST'])\n",
    "plt.show()"
   ]
  },
  {
   "cell_type": "code",
   "execution_count": 29,
   "metadata": {},
   "outputs": [
    {
     "data": {
      "text/plain": [
       "<matplotlib.axes._subplots.AxesSubplot at 0x265e4301250>"
      ]
     },
     "execution_count": 29,
     "metadata": {},
     "output_type": "execute_result"
    },
    {
     "data": {
      "image/png": "[encoded data removed]",
      "text/plain": [
       "<Figure size 432x288 with 1 Axes>"
      ]
     },
     "metadata": {},
     "output_type": "display_data"
    }
   ],
   "source": [
    "rd['RATING'].plot.hist(bins=20)"
   ]
  },
  {
   "cell_type": "code",
   "execution_count": 30,
   "metadata": {},
   "outputs": [
    {
     "data": {
      "text/plain": [
       "<matplotlib.axes._subplots.AxesSubplot at 0x265e438d9d0>"
      ]
     },
     "execution_count": 30,
     "metadata": {},
     "output_type": "execute_result"
    },
    {
     "data": {
      "image/png": "[encoded data removed]",
      "text/plain": [
       "<Figure size 432x288 with 1 Axes>"
      ]
     },
     "metadata": {},
     "output_type": "display_data"
    }
   ],
   "source": [
    "rd['VOTES'].plot.hist(bins=50)"
   ]
  },
  {
   "cell_type": "code",
   "execution_count": 31,
   "metadata": {},
   "outputs": [
    {
     "data": {
      "text/plain": [
       "<matplotlib.axes._subplots.AxesSubplot at 0x265e438d970>"
      ]
     },
     "execution_count": 31,
     "metadata": {},
     "output_type": "execute_result"
    },
    {
     "data": {
      "image/png": "[encoded data removed]",
      "text/plain": [
       "<Figure size 432x288 with 1 Axes>"
      ]
     },
     "metadata": {},
     "output_type": "display_data"
    }
   ],
   "source": [
    "rd['COST'].plot.hist(bins=50)"
   ]
  },
  {
   "cell_type": "code",
   "execution_count": 32,
   "metadata": {},
   "outputs": [
    {
     "data": {
      "text/plain": [
       "TITLE             object\n",
       "RESTAURANT_ID      int64\n",
       "CUISINES          object\n",
       "TIME              object\n",
       "CITY              object\n",
       "LOCALITY          object\n",
       "RATING           float64\n",
       "VOTES              int32\n",
       "COST               int64\n",
       "dtype: object"
      ]
     },
     "execution_count": 32,
     "metadata": {},
     "output_type": "execute_result"
    }
   ],
   "source": [
    "rd.dtypes"
   ]
  },
  {
   "cell_type": "markdown",
   "metadata": {},
   "source": [
    "# Bivariate Analysis"
   ]
  },
  {
   "cell_type": "code",
   "execution_count": 33,
   "metadata": {},
   "outputs": [
    {
     "data": {
      "text/plain": [
       "<seaborn.axisgrid.PairGrid at 0x265e4709e50>"
      ]
     },
     "execution_count": 33,
     "metadata": {},
     "output_type": "execute_result"
    },
    {
     "data": {
      "image/png": "[encoded data removed]",
      "text/plain": [
       "<Figure size 907.2x432 with 3 Axes>"
      ]
     },
     "metadata": {},
     "output_type": "display_data"
    }
   ],
   "source": [
    "sns.pairplot(rd, x_vars=['RESTAURANT_ID','RATING','VOTES'], y_vars='COST' ,size=6, aspect=0.7, kind='reg')"
   ]
  },
  {
   "cell_type": "markdown",
   "metadata": {},
   "source": [
    "# Handling categorical data"
   ]
  },
  {
   "cell_type": "code",
   "execution_count": 34,
   "metadata": {},
   "outputs": [],
   "source": [
    "# Use label encoder to change data type in object data type columns\n",
    "\n",
    "from sklearn.preprocessing import LabelEncoder\n",
    "\n",
    "le=LabelEncoder()\n",
    "list=['TITLE','CUISINES', 'TIME', 'CITY', 'LOCALITY']\n",
    "for val in list:\n",
    "    rd[val]=le.fit_transform(rd[val].astype(str))"
   ]
  },
  {
   "cell_type": "code",
   "execution_count": 35,
   "metadata": {},
   "outputs": [
    {
     "data": {
      "text/plain": [
       "TITLE              int32\n",
       "RESTAURANT_ID      int64\n",
       "CUISINES           int32\n",
       "TIME               int32\n",
       "CITY               int32\n",
       "LOCALITY           int32\n",
       "RATING           float64\n",
       "VOTES              int32\n",
       "COST               int64\n",
       "dtype: object"
      ]
     },
     "execution_count": 35,
     "metadata": {},
     "output_type": "execute_result"
    }
   ],
   "source": [
    "rd.dtypes"
   ]
  },
  {
   "cell_type": "markdown",
   "metadata": {},
   "source": [
    "# Plotting and Removing outliers"
   ]
  },
  {
   "cell_type": "code",
   "execution_count": 36,
   "metadata": {},
   "outputs": [
    {
     "data": {
      "image/png": "[encoded data removed]",
      "text/plain": [
       "<Figure size 1440x1296 with 9 Axes>"
      ]
     },
     "metadata": {},
     "output_type": "display_data"
    }
   ],
   "source": [
    "collist=rd.columns.values\n",
    "ncol=10\n",
    "nrow=5\n",
    "\n",
    "plt.figure(figsize=(20,18))\n",
    "for i in range(0,len(collist)):\n",
    "    plt.subplot(nrow,ncol,i+1)\n",
    "    sns.boxplot(rd[collist[i]],orient='v')\n",
    "    plt.tight_layout()"
   ]
  },
  {
   "cell_type": "markdown",
   "metadata": {},
   "source": [
    "Observation - above data shows outliers present in Rating,votes and cost columns."
   ]
  },
  {
   "cell_type": "code",
   "execution_count": 37,
   "metadata": {},
   "outputs": [
    {
     "data": {
      "text/plain": [
       "array([[0.86888688, 0.37269233, 0.32540837, ..., 0.14681221, 0.40960886,\n",
       "        0.86884552],\n",
       "       [0.80783894, 1.20737672, 1.61638078, ..., 0.65572557, 0.43309237,\n",
       "        1.34733058],\n",
       "       [0.86888688, 0.70057234, 0.61526483, ..., 0.31645   , 0.19702135,\n",
       "        0.23086546],\n",
       "       ...,\n",
       "       [0.35207201, 0.74896628, 0.12224961, ..., 0.48608779, 0.28130055,\n",
       "        1.02834054],\n",
       "       [0.86888688, 0.36076439, 1.055448  , ..., 0.06199332, 0.43062042,\n",
       "        0.40711461],\n",
       "       [0.86888688, 0.29505519, 0.59034881, ..., 0.02282557, 0.36658275,\n",
       "        0.08812458]])"
      ]
     },
     "execution_count": 37,
     "metadata": {},
     "output_type": "execute_result"
    }
   ],
   "source": [
    "# Removing outliers\n",
    "from scipy.stats import zscore\n",
    "z=np.abs(zscore(rd))\n",
    "z"
   ]
  },
  {
   "cell_type": "code",
   "execution_count": 38,
   "metadata": {},
   "outputs": [
    {
     "name": "stdout",
     "output_type": "stream",
     "text": [
      "(array([   84,   186,   196,   208,   293,   303,   304,   308,   337,\n",
      "         344,   354,   379,   422,   431,   469,   502,   510,   563,\n",
      "         731,   775,   796,   839,   852,   855,   872,   913,   966,\n",
      "         967,   973,  1034,  1038,  1132,  1133,  1147,  1151,  1193,\n",
      "        1244,  1288,  1345,  1346,  1395,  1467,  1470,  1475,  1476,\n",
      "        1522,  1540,  1594,  1617,  1632,  1657,  1681,  1685,  1759,\n",
      "        1778,  1828,  1850,  1878,  1884,  1916,  1930,  1931,  2090,\n",
      "        2100,  2111,  2204,  2205,  2207,  2268,  2302,  2305,  2333,\n",
      "        2339,  2349,  2369,  2412,  2459,  2488,  2531,  2604,  2610,\n",
      "        2622,  2683,  2686,  2689,  2695,  2740,  2886,  2905,  2940,\n",
      "        2973,  2977,  3002,  3028,  3033,  3036,  3049,  3197,  3211,\n",
      "        3289,  3309,  3333,  3338,  3396,  3398,  3408,  3492,  3507,\n",
      "        3526,  3532,  3554,  3578,  3587,  3603,  3688,  3692,  3704,\n",
      "        3706,  3715,  3728,  3730,  3773,  3841,  3847,  3855,  3877,\n",
      "        3891,  3896,  3905,  3909,  3942,  3952,  3953,  3962,  3974,\n",
      "        3987,  4124,  4147,  4150,  4152,  4192,  4193,  4224,  4268,\n",
      "        4273,  4279,  4285,  4298,  4323,  4367,  4470,  4494,  4512,\n",
      "        4524,  4554,  4557,  4558,  4578,  4592,  4618,  4628,  4634,\n",
      "        4647,  4658,  4659,  4691,  4693,  4708,  4709,  4728,  4760,\n",
      "        4768,  4855,  4904,  4931,  4947,  4987,  5078,  5098,  5108,\n",
      "        5133,  5140,  5173,  5202,  5257,  5264,  5375,  5492,  5502,\n",
      "        5588,  5594,  5629,  5662,  5774,  5792,  5836,  5841,  5843,\n",
      "        5874,  5880,  5897,  5934,  5944,  5969,  5975,  5996,  6005,\n",
      "        6024,  6136,  6142,  6147,  6343,  6390,  6421,  6446,  6448,\n",
      "        6472,  6475,  6496,  6505,  6506,  6519,  6608,  6640,  6644,\n",
      "        6649,  6684,  6690,  6714,  6760,  6804,  6878,  6922,  6949,\n",
      "        6982,  6997,  7028,  7034,  7034,  7059,  7073,  7078,  7189,\n",
      "        7202,  7262,  7275,  7316,  7362,  7369,  7442,  7459,  7494,\n",
      "        7572,  7626,  7630,  7784,  7808,  7822,  7883,  7901,  7988,\n",
      "        7997,  8009,  8065,  8078,  8106,  8123,  8143,  8164,  8184,\n",
      "        8222,  8234,  8311,  8370,  8400,  8442,  8448,  8459,  8472,\n",
      "        8509,  8510,  8577,  8578,  8598,  8606,  8630,  8659,  8674,\n",
      "        8680,  8709,  8797,  8837,  8839,  8907,  8925,  8965,  9008,\n",
      "        9017,  9022,  9022,  9067,  9069,  9074,  9088,  9100,  9124,\n",
      "        9132,  9200,  9227,  9281,  9288,  9300,  9546,  9552,  9577,\n",
      "        9580,  9586,  9609,  9616,  9617,  9702,  9770,  9775,  9783,\n",
      "        9809,  9830,  9876,  9878,  9884,  9894,  9903,  9941, 10043,\n",
      "       10065, 10065, 10143, 10168, 10219, 10221, 10257, 10266, 10275,\n",
      "       10278, 10280, 10320, 10345, 10364, 10365, 10380, 10465, 10467,\n",
      "       10480, 10538, 10546, 10568, 10628, 10629, 10636, 10677, 10727,\n",
      "       10736, 10863, 10868, 10895, 10898, 10907, 10948, 10950, 11021,\n",
      "       11073, 11125, 11129, 11130, 11146, 11147, 11158, 11170, 11179,\n",
      "       11197, 11216, 11232, 11269, 11295, 11373, 11377, 11410, 11441,\n",
      "       11457, 11475, 11521, 11568, 11657, 11704, 11714, 11785, 11786,\n",
      "       11798, 11804, 11847, 11861, 11904, 11926, 11936, 11943, 11954,\n",
      "       11972, 12021, 12050, 12083, 12120, 12138, 12143, 12196, 12236,\n",
      "       12271, 12271, 12318, 12338, 12352, 12360, 12413, 12422, 12426,\n",
      "       12506, 12562, 12628, 12668], dtype=int64), array([8, 7, 7, 8, 7, 7, 7, 8, 8, 7, 7, 8, 8, 7, 8, 8, 7, 8, 8, 7, 7, 8,\n",
      "       7, 7, 7, 7, 8, 8, 8, 7, 7, 7, 8, 7, 7, 8, 7, 8, 8, 7, 8, 7, 8, 8,\n",
      "       7, 7, 7, 8, 7, 8, 8, 7, 7, 8, 8, 8, 7, 8, 8, 8, 8, 8, 7, 8, 8, 7,\n",
      "       8, 8, 7, 7, 7, 8, 8, 8, 8, 7, 8, 8, 8, 8, 8, 8, 8, 8, 8, 8, 8, 7,\n",
      "       7, 8, 8, 7, 8, 7, 7, 8, 8, 8, 8, 7, 8, 7, 8, 8, 7, 7, 8, 7, 8, 8,\n",
      "       8, 7, 7, 8, 8, 8, 8, 7, 8, 7, 8, 8, 7, 8, 7, 7, 8, 8, 8, 7, 8, 7,\n",
      "       8, 8, 7, 7, 7, 8, 7, 8, 7, 7, 8, 7, 8, 8, 8, 8, 8, 7, 7, 8, 7, 8,\n",
      "       8, 7, 8, 7, 7, 7, 7, 7, 7, 7, 8, 7, 8, 8, 7, 8, 7, 7, 7, 8, 8, 7,\n",
      "       7, 7, 8, 8, 8, 7, 8, 8, 7, 8, 7, 7, 7, 8, 7, 7, 7, 7, 7, 7, 8, 8,\n",
      "       8, 7, 7, 8, 8, 7, 8, 7, 7, 8, 8, 7, 8, 8, 7, 7, 7, 7, 7, 8, 7, 8,\n",
      "       7, 7, 7, 8, 8, 7, 7, 7, 7, 7, 8, 7, 7, 8, 7, 8, 7, 7, 8, 7, 8, 8,\n",
      "       7, 7, 7, 8, 8, 8, 8, 8, 7, 7, 8, 7, 8, 8, 8, 8, 8, 8, 7, 7, 7, 8,\n",
      "       8, 8, 7, 8, 8, 8, 8, 8, 8, 8, 7, 8, 7, 7, 8, 7, 7, 8, 7, 8, 8, 7,\n",
      "       8, 7, 8, 8, 7, 8, 8, 8, 7, 8, 8, 7, 7, 8, 8, 8, 8, 8, 8, 7, 8, 7,\n",
      "       7, 7, 8, 7, 7, 7, 7, 8, 8, 8, 7, 8, 7, 8, 8, 7, 7, 8, 7, 7, 8, 8,\n",
      "       8, 7, 8, 7, 8, 8, 7, 7, 7, 8, 7, 8, 8, 8, 8, 8, 8, 7, 7, 7, 8, 7,\n",
      "       7, 8, 7, 7, 7, 8, 8, 7, 7, 7, 7, 7, 7, 8, 8, 8, 7, 7, 7, 8, 8, 8,\n",
      "       8, 8, 7, 7, 7, 7, 8, 8, 7, 7, 8, 7, 7, 8, 8, 8, 8, 7, 8, 8, 8, 7,\n",
      "       8, 8, 8, 7, 7, 8, 8, 8, 7, 8, 7, 7, 7, 7, 7, 7, 7, 7, 7, 8, 8, 7,\n",
      "       8, 7, 8, 8, 8, 7, 8, 7, 8], dtype=int64))\n"
     ]
    }
   ],
   "source": [
    "threshold=3\n",
    "print(np.where(z>3))"
   ]
  },
  {
   "cell_type": "code",
   "execution_count": 39,
   "metadata": {},
   "outputs": [],
   "source": [
    "rd_new=rd[(z<3).all(axis=1)]"
   ]
  },
  {
   "cell_type": "code",
   "execution_count": 40,
   "metadata": {},
   "outputs": [
    {
     "name": "stdout",
     "output_type": "stream",
     "text": [
      "(12690, 9)\n"
     ]
    }
   ],
   "source": [
    "print(rd.shape)"
   ]
  },
  {
   "cell_type": "code",
   "execution_count": 41,
   "metadata": {},
   "outputs": [
    {
     "name": "stdout",
     "output_type": "stream",
     "text": [
      "(12267, 9)\n"
     ]
    }
   ],
   "source": [
    "print(rd_new.shape)"
   ]
  },
  {
   "cell_type": "markdown",
   "metadata": {},
   "source": [
    "Observation - Now approx 400 rows removed due to outliers present."
   ]
  },
  {
   "cell_type": "markdown",
   "metadata": {},
   "source": [
    "# Checking skewness"
   ]
  },
  {
   "cell_type": "code",
   "execution_count": 42,
   "metadata": {},
   "outputs": [
    {
     "data": {
      "text/plain": [
       "TITLE           -0.081885\n",
       "RESTAURANT_ID    0.013100\n",
       "CUISINES        -0.216513\n",
       "TIME             0.318396\n",
       "CITY             0.282131\n",
       "LOCALITY         0.350438\n",
       "RATING          -2.185625\n",
       "VOTES            2.607065\n",
       "COST             1.822529\n",
       "dtype: float64"
      ]
     },
     "execution_count": 42,
     "metadata": {},
     "output_type": "execute_result"
    }
   ],
   "source": [
    "rd_new.skew()"
   ]
  },
  {
   "cell_type": "code",
   "execution_count": 43,
   "metadata": {},
   "outputs": [],
   "source": [
    "# Treating skewness via log method\n",
    "\n",
    "rd_new.skew()\n",
    "for col in rd_new.skew().index:\n",
    "    if rd_new[col].skew()>0.55:\n",
    "        if rd_new[col].skew()<-0.55:\n",
    "            rd_new[col]=np.log1p(rd_new[col])"
   ]
  },
  {
   "cell_type": "code",
   "execution_count": 44,
   "metadata": {},
   "outputs": [
    {
     "data": {
      "text/plain": [
       "TITLE           -0.081885\n",
       "RESTAURANT_ID    0.013100\n",
       "CUISINES        -0.216513\n",
       "TIME             0.318396\n",
       "CITY             0.282131\n",
       "LOCALITY         0.350438\n",
       "RATING          -2.185625\n",
       "VOTES            2.607065\n",
       "COST             1.822529\n",
       "dtype: float64"
      ]
     },
     "execution_count": 44,
     "metadata": {},
     "output_type": "execute_result"
    }
   ],
   "source": [
    "rd_new.skew()"
   ]
  },
  {
   "cell_type": "markdown",
   "metadata": {},
   "source": [
    "# model Training"
   ]
  },
  {
   "cell_type": "code",
   "execution_count": 45,
   "metadata": {},
   "outputs": [],
   "source": [
    "# Separating data into input and output variables.\n",
    "\n",
    "rd_x=rd_new.drop(columns=['COST'])\n",
    "y=pd.DataFrame(rd_new['COST'])"
   ]
  },
  {
   "cell_type": "code",
   "execution_count": 46,
   "metadata": {},
   "outputs": [
    {
     "data": {
      "text/html": [
       "<div>\n",
       "<style scoped>\n",
       "    .dataframe tbody tr th:only-of-type {\n",
       "        vertical-align: middle;\n",
       "    }\n",
       "\n",
       "    .dataframe tbody tr th {\n",
       "        vertical-align: top;\n",
       "    }\n",
       "\n",
       "    .dataframe thead th {\n",
       "        text-align: right;\n",
       "    }\n",
       "</style>\n",
       "<table border=\"1\" class=\"dataframe\">\n",
       "  <thead>\n",
       "    <tr style=\"text-align: right;\">\n",
       "      <th></th>\n",
       "      <th>COST</th>\n",
       "    </tr>\n",
       "  </thead>\n",
       "  <tbody>\n",
       "    <tr>\n",
       "      <th>0</th>\n",
       "      <td>1200</td>\n",
       "    </tr>\n",
       "    <tr>\n",
       "      <th>1</th>\n",
       "      <td>1500</td>\n",
       "    </tr>\n",
       "    <tr>\n",
       "      <th>2</th>\n",
       "      <td>800</td>\n",
       "    </tr>\n",
       "    <tr>\n",
       "      <th>3</th>\n",
       "      <td>800</td>\n",
       "    </tr>\n",
       "    <tr>\n",
       "      <th>4</th>\n",
       "      <td>300</td>\n",
       "    </tr>\n",
       "    <tr>\n",
       "      <th>...</th>\n",
       "      <td>...</td>\n",
       "    </tr>\n",
       "    <tr>\n",
       "      <th>12685</th>\n",
       "      <td>500</td>\n",
       "    </tr>\n",
       "    <tr>\n",
       "      <th>12686</th>\n",
       "      <td>1800</td>\n",
       "    </tr>\n",
       "    <tr>\n",
       "      <th>12687</th>\n",
       "      <td>1300</td>\n",
       "    </tr>\n",
       "    <tr>\n",
       "      <th>12688</th>\n",
       "      <td>400</td>\n",
       "    </tr>\n",
       "    <tr>\n",
       "      <th>12689</th>\n",
       "      <td>600</td>\n",
       "    </tr>\n",
       "  </tbody>\n",
       "</table>\n",
       "<p>12267 rows × 1 columns</p>\n",
       "</div>"
      ],
      "text/plain": [
       "       COST\n",
       "0      1200\n",
       "1      1500\n",
       "2       800\n",
       "3       800\n",
       "4       300\n",
       "...     ...\n",
       "12685   500\n",
       "12686  1800\n",
       "12687  1300\n",
       "12688   400\n",
       "12689   600\n",
       "\n",
       "[12267 rows x 1 columns]"
      ]
     },
     "execution_count": 46,
     "metadata": {},
     "output_type": "execute_result"
    }
   ],
   "source": [
    "y"
   ]
  },
  {
   "cell_type": "code",
   "execution_count": 47,
   "metadata": {},
   "outputs": [],
   "source": [
    "# Scaling the input Variable\n",
    "\n",
    "from sklearn.preprocessing import StandardScaler\n",
    "sc=StandardScaler()\n",
    "x=sc.fit_transform(rd_x)\n",
    "x=pd.DataFrame(x,columns=rd_x.columns)"
   ]
  },
  {
   "cell_type": "code",
   "execution_count": 48,
   "metadata": {},
   "outputs": [
    {
     "data": {
      "text/html": [
       "<div>\n",
       "<style scoped>\n",
       "    .dataframe tbody tr th:only-of-type {\n",
       "        vertical-align: middle;\n",
       "    }\n",
       "\n",
       "    .dataframe tbody tr th {\n",
       "        vertical-align: top;\n",
       "    }\n",
       "\n",
       "    .dataframe thead th {\n",
       "        text-align: right;\n",
       "    }\n",
       "</style>\n",
       "<table border=\"1\" class=\"dataframe\">\n",
       "  <thead>\n",
       "    <tr style=\"text-align: right;\">\n",
       "      <th></th>\n",
       "      <th>TITLE</th>\n",
       "      <th>RESTAURANT_ID</th>\n",
       "      <th>CUISINES</th>\n",
       "      <th>TIME</th>\n",
       "      <th>CITY</th>\n",
       "      <th>LOCALITY</th>\n",
       "      <th>RATING</th>\n",
       "      <th>VOTES</th>\n",
       "    </tr>\n",
       "  </thead>\n",
       "  <tbody>\n",
       "    <tr>\n",
       "      <th>0</th>\n",
       "      <td>-0.868661</td>\n",
       "      <td>0.376686</td>\n",
       "      <td>0.324440</td>\n",
       "      <td>-0.572899</td>\n",
       "      <td>2.126584</td>\n",
       "      <td>-0.920062</td>\n",
       "      <td>0.168282</td>\n",
       "      <td>-0.583610</td>\n",
       "    </tr>\n",
       "    <tr>\n",
       "      <th>1</th>\n",
       "      <td>-0.808136</td>\n",
       "      <td>1.212268</td>\n",
       "      <td>-1.609946</td>\n",
       "      <td>0.938713</td>\n",
       "      <td>-0.895507</td>\n",
       "      <td>0.984036</td>\n",
       "      <td>0.673476</td>\n",
       "      <td>-0.626514</td>\n",
       "    </tr>\n",
       "    <tr>\n",
       "      <th>2</th>\n",
       "      <td>-0.868661</td>\n",
       "      <td>0.704918</td>\n",
       "      <td>0.613191</td>\n",
       "      <td>-0.675783</td>\n",
       "      <td>-0.895507</td>\n",
       "      <td>1.121652</td>\n",
       "      <td>0.336680</td>\n",
       "      <td>-0.195209</td>\n",
       "    </tr>\n",
       "    <tr>\n",
       "      <th>3</th>\n",
       "      <td>1.068148</td>\n",
       "      <td>-0.310447</td>\n",
       "      <td>1.567973</td>\n",
       "      <td>-1.184930</td>\n",
       "      <td>0.955972</td>\n",
       "      <td>-1.292875</td>\n",
       "      <td>0.589277</td>\n",
       "      <td>-0.640063</td>\n",
       "    </tr>\n",
       "    <tr>\n",
       "      <th>4</th>\n",
       "      <td>-0.293671</td>\n",
       "      <td>1.698728</td>\n",
       "      <td>-0.387924</td>\n",
       "      <td>-0.736459</td>\n",
       "      <td>0.955972</td>\n",
       "      <td>-0.081859</td>\n",
       "      <td>0.336680</td>\n",
       "      <td>-0.321665</td>\n",
       "    </tr>\n",
       "    <tr>\n",
       "      <th>...</th>\n",
       "      <td>...</td>\n",
       "      <td>...</td>\n",
       "      <td>...</td>\n",
       "      <td>...</td>\n",
       "      <td>...</td>\n",
       "      <td>...</td>\n",
       "      <td>...</td>\n",
       "      <td>...</td>\n",
       "    </tr>\n",
       "    <tr>\n",
       "      <th>12262</th>\n",
       "      <td>1.068148</td>\n",
       "      <td>1.218935</td>\n",
       "      <td>0.578442</td>\n",
       "      <td>-0.038690</td>\n",
       "      <td>-0.131025</td>\n",
       "      <td>-0.777443</td>\n",
       "      <td>0.336680</td>\n",
       "      <td>0.538686</td>\n",
       "    </tr>\n",
       "    <tr>\n",
       "      <th>12263</th>\n",
       "      <td>-0.808136</td>\n",
       "      <td>0.431798</td>\n",
       "      <td>-0.076006</td>\n",
       "      <td>0.004838</td>\n",
       "      <td>0.955972</td>\n",
       "      <td>-1.300382</td>\n",
       "      <td>0.757675</td>\n",
       "      <td>2.047124</td>\n",
       "    </tr>\n",
       "    <tr>\n",
       "      <th>12264</th>\n",
       "      <td>0.341844</td>\n",
       "      <td>0.753364</td>\n",
       "      <td>-0.121511</td>\n",
       "      <td>-0.047924</td>\n",
       "      <td>1.159037</td>\n",
       "      <td>1.724658</td>\n",
       "      <td>0.505078</td>\n",
       "      <td>0.678691</td>\n",
       "    </tr>\n",
       "    <tr>\n",
       "      <th>12265</th>\n",
       "      <td>-0.868661</td>\n",
       "      <td>-0.357560</td>\n",
       "      <td>1.051696</td>\n",
       "      <td>0.875399</td>\n",
       "      <td>-0.895507</td>\n",
       "      <td>-0.054336</td>\n",
       "      <td>0.084082</td>\n",
       "      <td>-0.621998</td>\n",
       "    </tr>\n",
       "    <tr>\n",
       "      <th>12266</th>\n",
       "      <td>-0.868661</td>\n",
       "      <td>-0.291780</td>\n",
       "      <td>0.588370</td>\n",
       "      <td>-0.446272</td>\n",
       "      <td>-0.131025</td>\n",
       "      <td>1.702139</td>\n",
       "      <td>-0.000117</td>\n",
       "      <td>0.834503</td>\n",
       "    </tr>\n",
       "  </tbody>\n",
       "</table>\n",
       "<p>12267 rows × 8 columns</p>\n",
       "</div>"
      ],
      "text/plain": [
       "          TITLE  RESTAURANT_ID  CUISINES      TIME      CITY  LOCALITY  \\\n",
       "0     -0.868661       0.376686  0.324440 -0.572899  2.126584 -0.920062   \n",
       "1     -0.808136       1.212268 -1.609946  0.938713 -0.895507  0.984036   \n",
       "2     -0.868661       0.704918  0.613191 -0.675783 -0.895507  1.121652   \n",
       "3      1.068148      -0.310447  1.567973 -1.184930  0.955972 -1.292875   \n",
       "4     -0.293671       1.698728 -0.387924 -0.736459  0.955972 -0.081859   \n",
       "...         ...            ...       ...       ...       ...       ...   \n",
       "12262  1.068148       1.218935  0.578442 -0.038690 -0.131025 -0.777443   \n",
       "12263 -0.808136       0.431798 -0.076006  0.004838  0.955972 -1.300382   \n",
       "12264  0.341844       0.753364 -0.121511 -0.047924  1.159037  1.724658   \n",
       "12265 -0.868661      -0.357560  1.051696  0.875399 -0.895507 -0.054336   \n",
       "12266 -0.868661      -0.291780  0.588370 -0.446272 -0.131025  1.702139   \n",
       "\n",
       "         RATING     VOTES  \n",
       "0      0.168282 -0.583610  \n",
       "1      0.673476 -0.626514  \n",
       "2      0.336680 -0.195209  \n",
       "3      0.589277 -0.640063  \n",
       "4      0.336680 -0.321665  \n",
       "...         ...       ...  \n",
       "12262  0.336680  0.538686  \n",
       "12263  0.757675  2.047124  \n",
       "12264  0.505078  0.678691  \n",
       "12265  0.084082 -0.621998  \n",
       "12266 -0.000117  0.834503  \n",
       "\n",
       "[12267 rows x 8 columns]"
      ]
     },
     "execution_count": 48,
     "metadata": {},
     "output_type": "execute_result"
    }
   ],
   "source": [
    "x"
   ]
  },
  {
   "cell_type": "code",
   "execution_count": 49,
   "metadata": {},
   "outputs": [],
   "source": [
    "# make import and output variables into traina dn test data\n",
    "\n",
    "from sklearn.model_selection import train_test_split"
   ]
  },
  {
   "cell_type": "code",
   "execution_count": 50,
   "metadata": {},
   "outputs": [],
   "source": [
    "x_train,x_test,y_train,y_test=train_test_split(x,y,random_state=42,test_size=0.22)"
   ]
  },
  {
   "cell_type": "code",
   "execution_count": 51,
   "metadata": {},
   "outputs": [
    {
     "name": "stdout",
     "output_type": "stream",
     "text": [
      "(9568, 8) \t (2699, 8)\n"
     ]
    }
   ],
   "source": [
    "# Checking train and test data size\n",
    "\n",
    "print(x_train.shape, '\\t' , x_test.shape)"
   ]
  },
  {
   "cell_type": "code",
   "execution_count": 52,
   "metadata": {},
   "outputs": [
    {
     "name": "stdout",
     "output_type": "stream",
     "text": [
      "(9568, 1) \t (2699, 1)\n"
     ]
    }
   ],
   "source": [
    "print(y_train.shape, '\\t' , y_test.shape)"
   ]
  },
  {
   "cell_type": "code",
   "execution_count": 53,
   "metadata": {},
   "outputs": [],
   "source": [
    "# Importing models library\n",
    "\n",
    "from sklearn.linear_model import LinearRegression,Lasso,Ridge,ElasticNet\n",
    "from sklearn.svm import SVR\n",
    "from sklearn.neighbors import KNeighborsRegressor\n",
    "from sklearn.tree import DecisionTreeRegressor\n",
    "\n",
    "# Importing error metrics\n",
    "\n",
    "from sklearn.metrics import mean_squared_error,mean_absolute_error\n",
    "from sklearn.metrics import r2_score"
   ]
  },
  {
   "cell_type": "code",
   "execution_count": 54,
   "metadata": {},
   "outputs": [
    {
     "name": "stdout",
     "output_type": "stream",
     "text": [
      "Score of LinearRegression() is: 0.26441447341308544\n",
      "Error:\n",
      "Mean absolute error: 251.88035585599195\n",
      "Mean squared error: 134664.30625942416\n",
      "Root Mean squared error: 366.9663557595221\n",
      "r2_score: 0.2544813040628141\n",
      "********************************************************************************************\n",
      "\n",
      "\n",
      "Score of Lasso() is: 0.2643773300480985\n",
      "Error:\n",
      "Mean absolute error: 251.7657039962705\n",
      "Mean squared error: 134595.33446284634\n",
      "Root Mean squared error: 366.8723680830247\n",
      "r2_score: 0.25486314068507465\n",
      "********************************************************************************************\n",
      "\n",
      "\n",
      "Score of Ridge() is: 0.26441447149597486\n",
      "Error:\n",
      "Mean absolute error: 251.87999477876315\n",
      "Mean squared error: 134663.8102714386\n",
      "Root Mean squared error: 366.9656799639969\n",
      "r2_score: 0.25448404991527096\n",
      "********************************************************************************************\n",
      "\n",
      "\n",
      "Score of ElasticNet() is: 0.24317653136073536\n",
      "Error:\n",
      "Mean absolute error: 256.39217800639904\n",
      "Mean squared error: 137138.0104511278\n",
      "Root Mean squared error: 370.3214960694664\n",
      "r2_score: 0.24078656360515704\n",
      "********************************************************************************************\n",
      "\n",
      "\n",
      "Score of SVR() is: 0.14216297678696543\n",
      "Error:\n",
      "Mean absolute error: 242.04852347347696\n",
      "Mean squared error: 151661.5425356896\n",
      "Root Mean squared error: 389.4374693525131\n",
      "r2_score: 0.16038244613080865\n",
      "********************************************************************************************\n",
      "\n",
      "\n",
      "Score of KNeighborsRegressor() is: 0.5814254640728181\n",
      "Error:\n",
      "Mean absolute error: 230.21400518710632\n",
      "Mean squared error: 117266.49914783252\n",
      "Root Mean squared error: 342.44196464194124\n",
      "r2_score: 0.35079777299418535\n",
      "********************************************************************************************\n",
      "\n",
      "\n",
      "Score of DecisionTreeRegressor() is: 1.0\n",
      "Error:\n",
      "Mean absolute error: 226.3960726194887\n",
      "Mean squared error: 112116.43905150055\n",
      "Root Mean squared error: 334.8379295293479\n",
      "r2_score: 0.37930915952016653\n",
      "********************************************************************************************\n",
      "\n",
      "\n"
     ]
    }
   ],
   "source": [
    "# Using algorithms via for loop\n",
    "\n",
    "model=[LinearRegression(),Lasso(),Ridge(),ElasticNet(),SVR(),KNeighborsRegressor(),DecisionTreeRegressor()]\n",
    "\n",
    "for s in model:\n",
    "    s.fit(x_train,y_train)\n",
    "    print('Score of', s , 'is:' , s.score(x_train,y_train))\n",
    "    preds=s.predict(x_test)\n",
    "    print('Error:')\n",
    "    print('Mean absolute error:' , mean_absolute_error(y_test,preds))\n",
    "    print('Mean squared error:', mean_squared_error(y_test,preds))\n",
    "    print('Root Mean squared error:', np.sqrt(mean_squared_error(y_test,preds)))\n",
    "    print('r2_score:', r2_score(y_test,preds))\n",
    "    print('********************************************************************************************')\n",
    "    print('\\n')"
   ]
  },
  {
   "cell_type": "markdown",
   "metadata": {},
   "source": [
    "Note - Find out best result with DecisionTreeRegressor"
   ]
  },
  {
   "cell_type": "code",
   "execution_count": 55,
   "metadata": {},
   "outputs": [
    {
     "data": {
      "text/plain": [
       "{'random_state': 29}"
      ]
     },
     "execution_count": 55,
     "metadata": {},
     "output_type": "execute_result"
    }
   ],
   "source": [
    "# Finding out best paramter using GridsearchCV\n",
    "from sklearn.model_selection import GridSearchCV\n",
    "dt=DecisionTreeRegressor()\n",
    "parameters={'random_state':range(0,100)}\n",
    "gc=GridSearchCV(dt,parameters)\n",
    "gc.fit(x,y)\n",
    "gc.best_params_"
   ]
  },
  {
   "cell_type": "code",
   "execution_count": 56,
   "metadata": {},
   "outputs": [
    {
     "data": {
      "text/plain": [
       "{'criterion': 'friedman_mse'}"
      ]
     },
     "execution_count": 56,
     "metadata": {},
     "output_type": "execute_result"
    }
   ],
   "source": [
    "# Finding out best parameter using Gridsearch CV\n",
    "\n",
    "from sklearn.model_selection import GridSearchCV\n",
    "\n",
    "parameters1={'criterion' :['mse', 'friedman_mse', 'mae', 'poisson']}\n",
    "gc=GridSearchCV(dt,parameters1)\n",
    "gc.fit(x,y)\n",
    "gc.best_params_"
   ]
  },
  {
   "cell_type": "code",
   "execution_count": 57,
   "metadata": {},
   "outputs": [],
   "source": [
    "#Using Decisiontreeregressor with best results\n",
    "\n",
    "dt=DecisionTreeRegressor(criterion='friedman_mse',random_state=29)"
   ]
  },
  {
   "cell_type": "code",
   "execution_count": 58,
   "metadata": {},
   "outputs": [
    {
     "name": "stdout",
     "output_type": "stream",
     "text": [
      "Score 1.0\n",
      "\n",
      "\n",
      "Mean absolute error: 227.91885883660615\n",
      "Mean squared error: 116072.53390144499\n",
      "Root Mean squared error: 340.6941941117356\n",
      "\n",
      "\n",
      "r2_score: 0.35740771617962297\n"
     ]
    }
   ],
   "source": [
    "dt.fit(x_train,y_train)\n",
    "print('Score' ,dt.score(x_train,y_train))\n",
    "preddt=dt.predict(x_test)\n",
    "print('\\n')\n",
    "print('Mean absolute error:', mean_absolute_error(y_test,preddt))\n",
    "print('Mean squared error:', mean_squared_error(y_test,preddt))\n",
    "print('Root Mean squared error:', np.sqrt(mean_squared_error(y_test,preddt)))\n",
    "print('\\n')\n",
    "print('r2_score:', r2_score(y_test,preddt))"
   ]
  },
  {
   "cell_type": "markdown",
   "metadata": {},
   "source": [
    "# Using Ensemble Technique to boostup score"
   ]
  },
  {
   "cell_type": "code",
   "execution_count": 59,
   "metadata": {},
   "outputs": [
    {
     "name": "stdout",
     "output_type": "stream",
     "text": [
      "score: 0.95696536637143\n",
      "\n",
      "\n",
      "Mean absolute error: 165.75032604668397\n",
      "Mean squared error: 56443.09624723972\n",
      "Root Mean squared error: 237.57755838302515\n",
      "\n",
      "\n",
      "r2_score: 0.6875238533673848\n"
     ]
    }
   ],
   "source": [
    "from sklearn.ensemble import RandomForestRegressor\n",
    "\n",
    "rf=RandomForestRegressor(n_estimators=100,random_state=64)\n",
    "rf.fit(x_train,y_train)\n",
    "print('score:',rf.score(x_train,y_train))\n",
    "predrf=rf.predict(x_test)\n",
    "print('\\n')\n",
    "print('Mean absolute error:', mean_absolute_error(y_test,predrf))\n",
    "print('Mean squared error:', mean_squared_error(y_test,predrf))\n",
    "print('Root Mean squared error:', np.sqrt(mean_squared_error(y_test,predrf)))\n",
    "print('\\n')\n",
    "print('r2_score:', r2_score(y_test,predrf))"
   ]
  },
  {
   "cell_type": "code",
   "execution_count": 60,
   "metadata": {},
   "outputs": [
    {
     "name": "stdout",
     "output_type": "stream",
     "text": [
      "score: 0.9980933378705951\n",
      "\n",
      "\n",
      "Mean absolute error: 165.20711374583178\n",
      "Mean squared error: 58591.0967024824\n",
      "Root Mean squared error: 242.0559784481317\n",
      "\n",
      "\n",
      "r2_score: 0.6756322501449241\n"
     ]
    }
   ],
   "source": [
    "from sklearn.ensemble import AdaBoostRegressor\n",
    "\n",
    "\n",
    "ad=AdaBoostRegressor(base_estimator=dt,n_estimators=20,learning_rate=1.0)\n",
    "ad.fit(x_train,y_train)\n",
    "print('score:',ad.score(x_train,y_train))\n",
    "predad=ad.predict(x_test)\n",
    "print('\\n')\n",
    "print('Mean absolute error:', mean_absolute_error(y_test,predad))\n",
    "print('Mean squared error:', mean_squared_error(y_test,predad))\n",
    "print('Root Mean squared error:', np.sqrt(mean_squared_error(y_test,predad)))\n",
    "print('\\n')\n",
    "print('r2_score:', r2_score(y_test,predad))"
   ]
  },
  {
   "cell_type": "markdown",
   "metadata": {},
   "source": [
    "RandomForestRegressor is working well because it gives the best r2 score. So i will save RandomForestRegressor my final Model."
   ]
  },
  {
   "cell_type": "code",
   "execution_count": 61,
   "metadata": {},
   "outputs": [
    {
     "name": "stdout",
     "output_type": "stream",
     "text": [
      "Score: [0.66484176 0.64391191 0.65356908 0.64798656 0.6928356 ]\n",
      "Mean Score: 0.017573541325940863\n",
      "Standard Deviation: 0.017573541325940863\n"
     ]
    }
   ],
   "source": [
    "#Cross validate of AdaBoostRegressor\n",
    "from sklearn.model_selection import cross_val_score\n",
    "score=cross_val_score(ad,x,y,cv=5,scoring='r2')\n",
    "print('Score:', score)\n",
    "print('Mean Score:', score.std())\n",
    "print('Standard Deviation:', score.std())"
   ]
  },
  {
   "cell_type": "code",
   "execution_count": 62,
   "metadata": {},
   "outputs": [
    {
     "data": {
      "image/png": "[encoded data removed]",
      "text/plain": [
       "<Figure size 432x288 with 1 Axes>"
      ]
     },
     "metadata": {},
     "output_type": "display_data"
    }
   ],
   "source": [
    "# Plotting scatter plot between test data and predicted data \n",
    "plt.scatter(y_test,predrf)\n",
    "plt.xlabel('y_test')\n",
    "plt.ylabel('Predicted y')\n",
    "plt.show()"
   ]
  },
  {
   "cell_type": "code",
   "execution_count": 63,
   "metadata": {},
   "outputs": [],
   "source": [
    "import joblib"
   ]
  },
  {
   "cell_type": "code",
   "execution_count": 64,
   "metadata": {},
   "outputs": [
    {
     "data": {
      "text/plain": [
       "['Restaurant Food Cost.pkl']"
      ]
     },
     "execution_count": 64,
     "metadata": {},
     "output_type": "execute_result"
    }
   ],
   "source": [
    "joblib.dump(rd,'Restaurant Food Cost.pkl')"
   ]
  },
  {
   "cell_type": "code",
   "execution_count": null,
   "metadata": {},
   "outputs": [],
   "source": []
  }
 ],
 "metadata": {
  "kernelspec": {
   "display_name": "Python 3",
   "language": "python",
   "name": "python3"
  },
  "language_info": {
   "codemirror_mode": {
    "name": "ipython",
    "version": 3
   },
   "file_extension": ".py",
   "mimetype": "text/x-python",
   "name": "python",
   "nbconvert_exporter": "python",
   "pygments_lexer": "ipython3",
   "version": "3.8.3"
  }
 },
 "nbformat": 4,
 "nbformat_minor": 4
}
