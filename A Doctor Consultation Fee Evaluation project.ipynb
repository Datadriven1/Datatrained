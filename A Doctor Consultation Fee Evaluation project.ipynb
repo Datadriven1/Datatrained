{
 "cells": [
  {
   "cell_type": "code",
   "execution_count": 298,
   "metadata": {},
   "outputs": [],
   "source": [
    "import pandas as pd\n",
    "import numpy as np\n",
    "import warnings\n",
    "warnings.filterwarnings('ignore')"
   ]
  },
  {
   "cell_type": "code",
   "execution_count": 299,
   "metadata": {},
   "outputs": [],
   "source": [
    "# Calling dataset\n",
    "dd=pd.read_excel('Train A Doctor Consultation Fee.xlsx')"
   ]
  },
  {
   "cell_type": "code",
   "execution_count": 300,
   "metadata": {},
   "outputs": [
    {
     "data": {
      "text/html": [
       "<div>\n",
       "<style scoped>\n",
       "    .dataframe tbody tr th:only-of-type {\n",
       "        vertical-align: middle;\n",
       "    }\n",
       "\n",
       "    .dataframe tbody tr th {\n",
       "        vertical-align: top;\n",
       "    }\n",
       "\n",
       "    .dataframe thead th {\n",
       "        text-align: right;\n",
       "    }\n",
       "</style>\n",
       "<table border=\"1\" class=\"dataframe\">\n",
       "  <thead>\n",
       "    <tr style=\"text-align: right;\">\n",
       "      <th></th>\n",
       "      <th>Qualification</th>\n",
       "      <th>Experience</th>\n",
       "      <th>Rating</th>\n",
       "      <th>Place</th>\n",
       "      <th>Profile</th>\n",
       "      <th>Miscellaneous_Info</th>\n",
       "      <th>Fees</th>\n",
       "    </tr>\n",
       "  </thead>\n",
       "  <tbody>\n",
       "    <tr>\n",
       "      <th>0</th>\n",
       "      <td>BHMS, MD - Homeopathy</td>\n",
       "      <td>24 years experience</td>\n",
       "      <td>100%</td>\n",
       "      <td>Kakkanad, Ernakulam</td>\n",
       "      <td>Homeopath</td>\n",
       "      <td>100% 16 Feedback Kakkanad, Ernakulam</td>\n",
       "      <td>100</td>\n",
       "    </tr>\n",
       "    <tr>\n",
       "      <th>1</th>\n",
       "      <td>BAMS, MD - Ayurveda Medicine</td>\n",
       "      <td>12 years experience</td>\n",
       "      <td>98%</td>\n",
       "      <td>Whitefield, Bangalore</td>\n",
       "      <td>Ayurveda</td>\n",
       "      <td>98% 76 Feedback Whitefield, Bangalore</td>\n",
       "      <td>350</td>\n",
       "    </tr>\n",
       "    <tr>\n",
       "      <th>2</th>\n",
       "      <td>MBBS, MS - Otorhinolaryngology</td>\n",
       "      <td>9 years experience</td>\n",
       "      <td>NaN</td>\n",
       "      <td>Mathikere - BEL, Bangalore</td>\n",
       "      <td>ENT Specialist</td>\n",
       "      <td>NaN</td>\n",
       "      <td>300</td>\n",
       "    </tr>\n",
       "    <tr>\n",
       "      <th>3</th>\n",
       "      <td>BSc - Zoology, BAMS</td>\n",
       "      <td>12 years experience</td>\n",
       "      <td>NaN</td>\n",
       "      <td>Bannerghatta Road, Bangalore</td>\n",
       "      <td>Ayurveda</td>\n",
       "      <td>Bannerghatta Road, Bangalore ₹250 Available on...</td>\n",
       "      <td>250</td>\n",
       "    </tr>\n",
       "    <tr>\n",
       "      <th>4</th>\n",
       "      <td>BAMS</td>\n",
       "      <td>20 years experience</td>\n",
       "      <td>100%</td>\n",
       "      <td>Keelkattalai, Chennai</td>\n",
       "      <td>Ayurveda</td>\n",
       "      <td>100% 4 Feedback Keelkattalai, Chennai</td>\n",
       "      <td>250</td>\n",
       "    </tr>\n",
       "    <tr>\n",
       "      <th>...</th>\n",
       "      <td>...</td>\n",
       "      <td>...</td>\n",
       "      <td>...</td>\n",
       "      <td>...</td>\n",
       "      <td>...</td>\n",
       "      <td>...</td>\n",
       "      <td>...</td>\n",
       "    </tr>\n",
       "    <tr>\n",
       "      <th>5956</th>\n",
       "      <td>MBBS, MS - ENT</td>\n",
       "      <td>19 years experience</td>\n",
       "      <td>98%</td>\n",
       "      <td>Basavanagudi, Bangalore</td>\n",
       "      <td>ENT Specialist</td>\n",
       "      <td>98% 45 Feedback Basavanagudi, Bangalore</td>\n",
       "      <td>300</td>\n",
       "    </tr>\n",
       "    <tr>\n",
       "      <th>5957</th>\n",
       "      <td>MBBS</td>\n",
       "      <td>33 years experience</td>\n",
       "      <td>NaN</td>\n",
       "      <td>Nungambakkam, Chennai</td>\n",
       "      <td>General Medicine</td>\n",
       "      <td>NaN</td>\n",
       "      <td>100</td>\n",
       "    </tr>\n",
       "    <tr>\n",
       "      <th>5958</th>\n",
       "      <td>MBBS</td>\n",
       "      <td>41 years experience</td>\n",
       "      <td>97%</td>\n",
       "      <td>Greater Kailash Part 2, Delhi</td>\n",
       "      <td>General Medicine</td>\n",
       "      <td>97% 11 Feedback Greater Kailash Part 2, Delhi</td>\n",
       "      <td>600</td>\n",
       "    </tr>\n",
       "    <tr>\n",
       "      <th>5959</th>\n",
       "      <td>MBBS, MD - General Medicine</td>\n",
       "      <td>15 years experience</td>\n",
       "      <td>90%</td>\n",
       "      <td>Vileparle West, Mumbai</td>\n",
       "      <td>General Medicine</td>\n",
       "      <td>General Medical Consultation Viral Fever Treat...</td>\n",
       "      <td>100</td>\n",
       "    </tr>\n",
       "    <tr>\n",
       "      <th>5960</th>\n",
       "      <td>BDS, MDS - Orthodontics</td>\n",
       "      <td>17 years experience</td>\n",
       "      <td>100%</td>\n",
       "      <td>Pitampura, Delhi</td>\n",
       "      <td>Dentist</td>\n",
       "      <td>Acrylic Partial Denture Crowns and Bridges Fix...</td>\n",
       "      <td>200</td>\n",
       "    </tr>\n",
       "  </tbody>\n",
       "</table>\n",
       "<p>5961 rows × 7 columns</p>\n",
       "</div>"
      ],
      "text/plain": [
       "                       Qualification           Experience Rating  \\\n",
       "0              BHMS, MD - Homeopathy  24 years experience   100%   \n",
       "1       BAMS, MD - Ayurveda Medicine  12 years experience    98%   \n",
       "2     MBBS, MS - Otorhinolaryngology   9 years experience    NaN   \n",
       "3                BSc - Zoology, BAMS  12 years experience    NaN   \n",
       "4                               BAMS  20 years experience   100%   \n",
       "...                              ...                  ...    ...   \n",
       "5956                  MBBS, MS - ENT  19 years experience    98%   \n",
       "5957                            MBBS  33 years experience    NaN   \n",
       "5958                            MBBS  41 years experience    97%   \n",
       "5959     MBBS, MD - General Medicine  15 years experience    90%   \n",
       "5960         BDS, MDS - Orthodontics  17 years experience   100%   \n",
       "\n",
       "                              Place           Profile  \\\n",
       "0               Kakkanad, Ernakulam         Homeopath   \n",
       "1             Whitefield, Bangalore          Ayurveda   \n",
       "2        Mathikere - BEL, Bangalore    ENT Specialist   \n",
       "3      Bannerghatta Road, Bangalore          Ayurveda   \n",
       "4             Keelkattalai, Chennai          Ayurveda   \n",
       "...                             ...               ...   \n",
       "5956        Basavanagudi, Bangalore    ENT Specialist   \n",
       "5957          Nungambakkam, Chennai  General Medicine   \n",
       "5958  Greater Kailash Part 2, Delhi  General Medicine   \n",
       "5959         Vileparle West, Mumbai  General Medicine   \n",
       "5960               Pitampura, Delhi           Dentist   \n",
       "\n",
       "                                     Miscellaneous_Info  Fees  \n",
       "0                  100% 16 Feedback Kakkanad, Ernakulam   100  \n",
       "1                 98% 76 Feedback Whitefield, Bangalore   350  \n",
       "2                                                   NaN   300  \n",
       "3     Bannerghatta Road, Bangalore ₹250 Available on...   250  \n",
       "4                 100% 4 Feedback Keelkattalai, Chennai   250  \n",
       "...                                                 ...   ...  \n",
       "5956            98% 45 Feedback Basavanagudi, Bangalore   300  \n",
       "5957                                                NaN   100  \n",
       "5958      97% 11 Feedback Greater Kailash Part 2, Delhi   600  \n",
       "5959  General Medical Consultation Viral Fever Treat...   100  \n",
       "5960  Acrylic Partial Denture Crowns and Bridges Fix...   200  \n",
       "\n",
       "[5961 rows x 7 columns]"
      ]
     },
     "execution_count": 300,
     "metadata": {},
     "output_type": "execute_result"
    }
   ],
   "source": [
    "dd"
   ]
  },
  {
   "cell_type": "markdown",
   "metadata": {},
   "source": [
    "Observation - The dataset have 5961 rows and 7 columns. The target variable is fees which is continous value so this is regression problem. \n",
    "\n",
    "Qualification: Qualification and degrees held by the doctor\n",
    "\n",
    "Experience: Experience of the doctor in number of years\n",
    "\n",
    "Rating: Rating given by patients\n",
    "\n",
    "Profile: Type of the doctor\n",
    "\n",
    "Miscellaeous_Info: Extra information about the doctor\n",
    "\n",
    "Fees: Fees charged by the doctor\n",
    "\n",
    "Place: Area and the city where the doctor is located."
   ]
  },
  {
   "cell_type": "code",
   "execution_count": 301,
   "metadata": {},
   "outputs": [
    {
     "data": {
      "text/plain": [
       "Qualification            0\n",
       "Experience               0\n",
       "Rating                3302\n",
       "Place                   25\n",
       "Profile                  0\n",
       "Miscellaneous_Info    2620\n",
       "Fees                     0\n",
       "dtype: int64"
      ]
     },
     "execution_count": 301,
     "metadata": {},
     "output_type": "execute_result"
    }
   ],
   "source": [
    "# Checking null values\n",
    "dd.isnull().sum()"
   ]
  },
  {
   "cell_type": "code",
   "execution_count": 302,
   "metadata": {},
   "outputs": [
    {
     "data": {
      "text/plain": [
       "Index(['Qualification', 'Experience', 'Rating', 'Place', 'Profile',\n",
       "       'Miscellaneous_Info', 'Fees'],\n",
       "      dtype='object')"
      ]
     },
     "execution_count": 302,
     "metadata": {},
     "output_type": "execute_result"
    }
   ],
   "source": [
    "dd.columns"
   ]
  },
  {
   "cell_type": "code",
   "execution_count": 303,
   "metadata": {},
   "outputs": [
    {
     "data": {
      "text/plain": [
       "Qualification         object\n",
       "Experience            object\n",
       "Rating                object\n",
       "Place                 object\n",
       "Profile               object\n",
       "Miscellaneous_Info    object\n",
       "Fees                   int64\n",
       "dtype: object"
      ]
     },
     "execution_count": 303,
     "metadata": {},
     "output_type": "execute_result"
    }
   ],
   "source": [
    "# Checking daya type\n",
    "dd.dtypes"
   ]
  },
  {
   "cell_type": "markdown",
   "metadata": {},
   "source": [
    "All the columns has object data type except Fees"
   ]
  },
  {
   "cell_type": "code",
   "execution_count": 304,
   "metadata": {
    "scrolled": false
   },
   "outputs": [
    {
     "name": "stdout",
     "output_type": "stream",
     "text": [
      "BDS                                                                                                                                  488\n",
      "BHMS                                                                                                                                 477\n",
      "BAMS                                                                                                                                 471\n",
      "MBBS                                                                                                                                 334\n",
      "MBBS, MS - ENT                                                                                                                       220\n",
      "                                                                                                                                    ... \n",
      "MS - Ayurvedic Gynecology & Obstetrics, BAMS                                                                                           1\n",
      "BDS, MDS - Oral Medicine and Radiology, FICOI                                                                                          1\n",
      "MBBS, MRCPS, MRCP (Paed)                                                                                                               1\n",
      "D.H.M, DHMS (Diploma in Homeopathic Medicine and Surgery)                                                                              1\n",
      "MBBS, DNB - General Medicine, Fellowship of College of General Practice (FCGP), FCCS, Post Graduate Diploma in Diabetology (PGDD)      1\n",
      "Name: Qualification, Length: 1420, dtype: int64\n",
      "****************************************\n",
      "\n",
      "\n",
      "9 years experience     323\n",
      "10 years experience    294\n",
      "11 years experience    288\n",
      "8 years experience     282\n",
      "12 years experience    279\n",
      "                      ... \n",
      "60 years experience      1\n",
      "66 years experience      1\n",
      "65 years experience      1\n",
      "64 years experience      1\n",
      "61 years experience      1\n",
      "Name: Experience, Length: 64, dtype: int64\n",
      "****************************************\n",
      "\n",
      "\n",
      "100%    684\n",
      "98%     290\n",
      "99%     259\n",
      "97%     241\n",
      "96%     220\n",
      "95%     178\n",
      "94%     115\n",
      "93%     109\n",
      "92%      66\n",
      "90%      66\n",
      "91%      60\n",
      "89%      42\n",
      "88%      41\n",
      "85%      27\n",
      "82%      23\n",
      "86%      21\n",
      "83%      21\n",
      "80%      19\n",
      "77%      16\n",
      "87%      14\n",
      "84%      13\n",
      "79%      13\n",
      "81%      12\n",
      "67%      12\n",
      "76%       9\n",
      "71%       9\n",
      "73%       8\n",
      "75%       8\n",
      "60%       7\n",
      "74%       7\n",
      "78%       6\n",
      "56%       5\n",
      "68%       5\n",
      "70%       4\n",
      "69%       4\n",
      "72%       3\n",
      "57%       3\n",
      "55%       2\n",
      "33%       2\n",
      "62%       2\n",
      "63%       2\n",
      "64%       2\n",
      "36%       1\n",
      "45%       1\n",
      "58%       1\n",
      "47%       1\n",
      "48%       1\n",
      "65%       1\n",
      "53%       1\n",
      "40%       1\n",
      "7%        1\n",
      "Name: Rating, dtype: int64\n",
      "****************************************\n",
      "\n",
      "\n",
      "HSR Layout, Bangalore              75\n",
      "Andheri West, Mumbai               70\n",
      "Dwarka, Delhi                      67\n",
      "Banjara Hills, Hyderabad           64\n",
      "Mulund West, Mumbai                54\n",
      "                                   ..\n",
      "Rohini Sector 5, Delhi              1\n",
      "Pattimattam, Ernakulam              1\n",
      "Kishanbagh, Hyderabad               1\n",
      "Kallambalam, Thiruvananthapuram     1\n",
      "Venkitapuram, Coimbatore            1\n",
      "Name: Place, Length: 877, dtype: int64\n",
      "****************************************\n",
      "\n",
      "\n",
      "Dentist             1397\n",
      "General Medicine    1173\n",
      "Dermatologists      1034\n",
      "Homeopath            843\n",
      "Ayurveda             786\n",
      "ENT Specialist       728\n",
      "Name: Profile, dtype: int64\n",
      "****************************************\n",
      "\n",
      "\n",
      "Acrylic Partial Denture Crowns and Bridges Fixing Artificial Teeth                             40\n",
      "Tooth Extraction Dental Fillings Scaling / Polishing                                           12\n",
      "Dental Fillings Zirconia Crowns Dental Implant Fixing                                          12\n",
      "Skin Disease Treatment Kidney Stone Treatment Gall Bladder (Biliary) Stone Treatment            9\n",
      "Skin Allergy Treatment Skin Allergies Dermabrasion                                              9\n",
      "                                                                                               ..\n",
      "Artificial Teeth Complete/Partial Dentures Fixing Impaction / Impacted Tooth Extraction         1\n",
      "Endoscopic Sinus Surgeries Micro-Ear Surgeries Phono Surgeries ( Micro-Laryngeal Surgeries)     1\n",
      "Osseointegrated implants Advanced surgery in Implantology Implant Retained Dentures             1\n",
      "99% 31 Feedback Whitefield, Bangalore                                                           1\n",
      "Lifestyle Disorders Treatment Migraine Treatment Skin Disease Treatment                         1\n",
      "Name: Miscellaneous_Info, Length: 2998, dtype: int64\n",
      "****************************************\n",
      "\n",
      "\n"
     ]
    }
   ],
   "source": [
    "# Checking unique values\n",
    "\n",
    "for i in dd.columns:\n",
    "    if dd[i].dtype==object:\n",
    "        print(dd[i].value_counts())\n",
    "        print('****************************************')\n",
    "        print('\\n')"
   ]
  },
  {
   "cell_type": "code",
   "execution_count": 305,
   "metadata": {},
   "outputs": [
    {
     "data": {
      "text/plain": [
       "100    1306\n",
       "500     938\n",
       "200     904\n",
       "300     864\n",
       "400     424\n",
       "250     307\n",
       "150     253\n",
       "600     215\n",
       "700     153\n",
       "800     143\n",
       "350     143\n",
       "50       81\n",
       "450      65\n",
       "750      34\n",
       "550      22\n",
       "650      21\n",
       "900      18\n",
       "70       18\n",
       "80       12\n",
       "60       11\n",
       "30        4\n",
       "10        2\n",
       "260       2\n",
       "130       2\n",
       "180       2\n",
       "40        2\n",
       "380       2\n",
       "220       1\n",
       "280       1\n",
       "499       1\n",
       "5         1\n",
       "920       1\n",
       "299       1\n",
       "125       1\n",
       "230       1\n",
       "430       1\n",
       "630       1\n",
       "850       1\n",
       "950       1\n",
       "20        1\n",
       "Name: Fees, dtype: int64"
      ]
     },
     "execution_count": 305,
     "metadata": {},
     "output_type": "execute_result"
    }
   ],
   "source": [
    "# Checking unique values of fee column\n",
    "\n",
    "dd['Fees'].value_counts()"
   ]
  },
  {
   "cell_type": "markdown",
   "metadata": {},
   "source": [
    "Observation - 950 is highest fee and 5 is lowest fee."
   ]
  },
  {
   "cell_type": "code",
   "execution_count": 306,
   "metadata": {},
   "outputs": [
    {
     "data": {
      "text/plain": [
       "<matplotlib.axes._subplots.AxesSubplot at 0x1f9234a6c70>"
      ]
     },
     "execution_count": 306,
     "metadata": {},
     "output_type": "execute_result"
    },
    {
     "data": {
      "image/png": "[encoded data removed]",
      "text/plain": [
       "<Figure size 864x720 with 2 Axes>"
      ]
     },
     "metadata": {
      "needs_background": "light"
     },
     "output_type": "display_data"
    }
   ],
   "source": [
    "# Checking null values using heatmap\n",
    "\n",
    "import seaborn as sns\n",
    "import matplotlib.pyplot as plt\n",
    "plt.subplots(figsize=(12,10))\n",
    "sns.heatmap(dd.isnull(),annot=True)"
   ]
  },
  {
   "cell_type": "markdown",
   "metadata": {},
   "source": [
    "Observation - The above graph shows missing values present in 3 columns."
   ]
  },
  {
   "cell_type": "markdown",
   "metadata": {},
   "source": [
    "# Univariate Analysis"
   ]
  },
  {
   "cell_type": "code",
   "execution_count": 307,
   "metadata": {},
   "outputs": [
    {
     "data": {
      "image/png": "[encoded data removed]",
      "text/plain": [
       "<Figure size 1440x1296 with 1 Axes>"
      ]
     },
     "metadata": {
      "needs_background": "light"
     },
     "output_type": "display_data"
    },
    {
     "name": "stdout",
     "output_type": "stream",
     "text": [
      "100    1306\n",
      "500     938\n",
      "200     904\n",
      "300     864\n",
      "400     424\n",
      "250     307\n",
      "150     253\n",
      "600     215\n",
      "700     153\n",
      "800     143\n",
      "350     143\n",
      "50       81\n",
      "450      65\n",
      "750      34\n",
      "550      22\n",
      "650      21\n",
      "900      18\n",
      "70       18\n",
      "80       12\n",
      "60       11\n",
      "30        4\n",
      "10        2\n",
      "260       2\n",
      "130       2\n",
      "180       2\n",
      "40        2\n",
      "380       2\n",
      "220       1\n",
      "280       1\n",
      "499       1\n",
      "5         1\n",
      "920       1\n",
      "299       1\n",
      "125       1\n",
      "230       1\n",
      "430       1\n",
      "630       1\n",
      "850       1\n",
      "950       1\n",
      "20        1\n",
      "Name: Fees, dtype: int64\n"
     ]
    }
   ],
   "source": [
    "# Checking Fees count\n",
    "\n",
    "plt.subplots(figsize=(20,18))\n",
    "sns.countplot(x='Fees',data=dd)\n",
    "plt.title('Count of Fees')\n",
    "plt.xlabel('Fees')\n",
    "plt.ylabel('Fees count')\n",
    "plt.show()\n",
    "\n",
    "print(dd.Fees.value_counts())"
   ]
  },
  {
   "cell_type": "code",
   "execution_count": 308,
   "metadata": {},
   "outputs": [
    {
     "data": {
      "image/png": "[encoded data removed]",
      "text/plain": [
       "<Figure size 720x432 with 1 Axes>"
      ]
     },
     "metadata": {
      "needs_background": "light"
     },
     "output_type": "display_data"
    },
    {
     "name": "stdout",
     "output_type": "stream",
     "text": [
      "Dentist             1397\n",
      "General Medicine    1173\n",
      "Dermatologists      1034\n",
      "Homeopath            843\n",
      "Ayurveda             786\n",
      "ENT Specialist       728\n",
      "Name: Profile, dtype: int64\n"
     ]
    }
   ],
   "source": [
    "# Checking Profile count\n",
    "\n",
    "plt.subplots(figsize=(10,6))\n",
    "sns.countplot(x='Profile',data=dd)\n",
    "plt.title('Count of Profile')\n",
    "plt.xlabel('Profile')\n",
    "plt.ylabel('Profile count')\n",
    "plt.show()\n",
    "\n",
    "print(dd.Profile.value_counts())"
   ]
  },
  {
   "cell_type": "code",
   "execution_count": 309,
   "metadata": {},
   "outputs": [
    {
     "data": {
      "text/plain": [
       "Qualification            0\n",
       "Experience               0\n",
       "Rating                3302\n",
       "Place                    0\n",
       "Profile                  0\n",
       "Miscellaneous_Info    2620\n",
       "Fees                     0\n",
       "dtype: int64"
      ]
     },
     "execution_count": 309,
     "metadata": {},
     "output_type": "execute_result"
    }
   ],
   "source": [
    "from sklearn.impute import SimpleImputer\n",
    "\n",
    "imp=SimpleImputer(strategy='most_frequent')\n",
    "dd['Place']=imp.fit_transform(dd['Place'].values.reshape(-1,1))\n",
    "dd.isnull().sum()"
   ]
  },
  {
   "cell_type": "code",
   "execution_count": 310,
   "metadata": {},
   "outputs": [],
   "source": [
    "# Now divide area and city column separately\n",
    "\n",
    "area=list(dd['Place'])\n",
    "\n",
    "        \n",
    "location=[]\n",
    "city=[]\n",
    "\n",
    "for i in range(len(area)):\n",
    "    location.append(area[i].split(sep=\",\")[0])\n",
    "    city.append(area[i].split(sep=',')[-1])"
   ]
  },
  {
   "cell_type": "code",
   "execution_count": 311,
   "metadata": {},
   "outputs": [],
   "source": [
    "dd['location']=location\n",
    "dd['city']=city"
   ]
  },
  {
   "cell_type": "code",
   "execution_count": 312,
   "metadata": {},
   "outputs": [
    {
     "data": {
      "text/html": [
       "<div>\n",
       "<style scoped>\n",
       "    .dataframe tbody tr th:only-of-type {\n",
       "        vertical-align: middle;\n",
       "    }\n",
       "\n",
       "    .dataframe tbody tr th {\n",
       "        vertical-align: top;\n",
       "    }\n",
       "\n",
       "    .dataframe thead th {\n",
       "        text-align: right;\n",
       "    }\n",
       "</style>\n",
       "<table border=\"1\" class=\"dataframe\">\n",
       "  <thead>\n",
       "    <tr style=\"text-align: right;\">\n",
       "      <th></th>\n",
       "      <th>Qualification</th>\n",
       "      <th>Experience</th>\n",
       "      <th>Rating</th>\n",
       "      <th>Place</th>\n",
       "      <th>Profile</th>\n",
       "      <th>Miscellaneous_Info</th>\n",
       "      <th>Fees</th>\n",
       "      <th>location</th>\n",
       "      <th>city</th>\n",
       "    </tr>\n",
       "  </thead>\n",
       "  <tbody>\n",
       "    <tr>\n",
       "      <th>0</th>\n",
       "      <td>BHMS, MD - Homeopathy</td>\n",
       "      <td>24 years experience</td>\n",
       "      <td>100%</td>\n",
       "      <td>Kakkanad, Ernakulam</td>\n",
       "      <td>Homeopath</td>\n",
       "      <td>100% 16 Feedback Kakkanad, Ernakulam</td>\n",
       "      <td>100</td>\n",
       "      <td>Kakkanad</td>\n",
       "      <td>Ernakulam</td>\n",
       "    </tr>\n",
       "    <tr>\n",
       "      <th>1</th>\n",
       "      <td>BAMS, MD - Ayurveda Medicine</td>\n",
       "      <td>12 years experience</td>\n",
       "      <td>98%</td>\n",
       "      <td>Whitefield, Bangalore</td>\n",
       "      <td>Ayurveda</td>\n",
       "      <td>98% 76 Feedback Whitefield, Bangalore</td>\n",
       "      <td>350</td>\n",
       "      <td>Whitefield</td>\n",
       "      <td>Bangalore</td>\n",
       "    </tr>\n",
       "    <tr>\n",
       "      <th>2</th>\n",
       "      <td>MBBS, MS - Otorhinolaryngology</td>\n",
       "      <td>9 years experience</td>\n",
       "      <td>NaN</td>\n",
       "      <td>Mathikere - BEL, Bangalore</td>\n",
       "      <td>ENT Specialist</td>\n",
       "      <td>NaN</td>\n",
       "      <td>300</td>\n",
       "      <td>Mathikere - BEL</td>\n",
       "      <td>Bangalore</td>\n",
       "    </tr>\n",
       "    <tr>\n",
       "      <th>3</th>\n",
       "      <td>BSc - Zoology, BAMS</td>\n",
       "      <td>12 years experience</td>\n",
       "      <td>NaN</td>\n",
       "      <td>Bannerghatta Road, Bangalore</td>\n",
       "      <td>Ayurveda</td>\n",
       "      <td>Bannerghatta Road, Bangalore ₹250 Available on...</td>\n",
       "      <td>250</td>\n",
       "      <td>Bannerghatta Road</td>\n",
       "      <td>Bangalore</td>\n",
       "    </tr>\n",
       "    <tr>\n",
       "      <th>4</th>\n",
       "      <td>BAMS</td>\n",
       "      <td>20 years experience</td>\n",
       "      <td>100%</td>\n",
       "      <td>Keelkattalai, Chennai</td>\n",
       "      <td>Ayurveda</td>\n",
       "      <td>100% 4 Feedback Keelkattalai, Chennai</td>\n",
       "      <td>250</td>\n",
       "      <td>Keelkattalai</td>\n",
       "      <td>Chennai</td>\n",
       "    </tr>\n",
       "    <tr>\n",
       "      <th>...</th>\n",
       "      <td>...</td>\n",
       "      <td>...</td>\n",
       "      <td>...</td>\n",
       "      <td>...</td>\n",
       "      <td>...</td>\n",
       "      <td>...</td>\n",
       "      <td>...</td>\n",
       "      <td>...</td>\n",
       "      <td>...</td>\n",
       "    </tr>\n",
       "    <tr>\n",
       "      <th>5956</th>\n",
       "      <td>MBBS, MS - ENT</td>\n",
       "      <td>19 years experience</td>\n",
       "      <td>98%</td>\n",
       "      <td>Basavanagudi, Bangalore</td>\n",
       "      <td>ENT Specialist</td>\n",
       "      <td>98% 45 Feedback Basavanagudi, Bangalore</td>\n",
       "      <td>300</td>\n",
       "      <td>Basavanagudi</td>\n",
       "      <td>Bangalore</td>\n",
       "    </tr>\n",
       "    <tr>\n",
       "      <th>5957</th>\n",
       "      <td>MBBS</td>\n",
       "      <td>33 years experience</td>\n",
       "      <td>NaN</td>\n",
       "      <td>Nungambakkam, Chennai</td>\n",
       "      <td>General Medicine</td>\n",
       "      <td>NaN</td>\n",
       "      <td>100</td>\n",
       "      <td>Nungambakkam</td>\n",
       "      <td>Chennai</td>\n",
       "    </tr>\n",
       "    <tr>\n",
       "      <th>5958</th>\n",
       "      <td>MBBS</td>\n",
       "      <td>41 years experience</td>\n",
       "      <td>97%</td>\n",
       "      <td>Greater Kailash Part 2, Delhi</td>\n",
       "      <td>General Medicine</td>\n",
       "      <td>97% 11 Feedback Greater Kailash Part 2, Delhi</td>\n",
       "      <td>600</td>\n",
       "      <td>Greater Kailash Part 2</td>\n",
       "      <td>Delhi</td>\n",
       "    </tr>\n",
       "    <tr>\n",
       "      <th>5959</th>\n",
       "      <td>MBBS, MD - General Medicine</td>\n",
       "      <td>15 years experience</td>\n",
       "      <td>90%</td>\n",
       "      <td>Vileparle West, Mumbai</td>\n",
       "      <td>General Medicine</td>\n",
       "      <td>General Medical Consultation Viral Fever Treat...</td>\n",
       "      <td>100</td>\n",
       "      <td>Vileparle West</td>\n",
       "      <td>Mumbai</td>\n",
       "    </tr>\n",
       "    <tr>\n",
       "      <th>5960</th>\n",
       "      <td>BDS, MDS - Orthodontics</td>\n",
       "      <td>17 years experience</td>\n",
       "      <td>100%</td>\n",
       "      <td>Pitampura, Delhi</td>\n",
       "      <td>Dentist</td>\n",
       "      <td>Acrylic Partial Denture Crowns and Bridges Fix...</td>\n",
       "      <td>200</td>\n",
       "      <td>Pitampura</td>\n",
       "      <td>Delhi</td>\n",
       "    </tr>\n",
       "  </tbody>\n",
       "</table>\n",
       "<p>5961 rows × 9 columns</p>\n",
       "</div>"
      ],
      "text/plain": [
       "                       Qualification           Experience Rating  \\\n",
       "0              BHMS, MD - Homeopathy  24 years experience   100%   \n",
       "1       BAMS, MD - Ayurveda Medicine  12 years experience    98%   \n",
       "2     MBBS, MS - Otorhinolaryngology   9 years experience    NaN   \n",
       "3                BSc - Zoology, BAMS  12 years experience    NaN   \n",
       "4                               BAMS  20 years experience   100%   \n",
       "...                              ...                  ...    ...   \n",
       "5956                  MBBS, MS - ENT  19 years experience    98%   \n",
       "5957                            MBBS  33 years experience    NaN   \n",
       "5958                            MBBS  41 years experience    97%   \n",
       "5959     MBBS, MD - General Medicine  15 years experience    90%   \n",
       "5960         BDS, MDS - Orthodontics  17 years experience   100%   \n",
       "\n",
       "                              Place           Profile  \\\n",
       "0               Kakkanad, Ernakulam         Homeopath   \n",
       "1             Whitefield, Bangalore          Ayurveda   \n",
       "2        Mathikere - BEL, Bangalore    ENT Specialist   \n",
       "3      Bannerghatta Road, Bangalore          Ayurveda   \n",
       "4             Keelkattalai, Chennai          Ayurveda   \n",
       "...                             ...               ...   \n",
       "5956        Basavanagudi, Bangalore    ENT Specialist   \n",
       "5957          Nungambakkam, Chennai  General Medicine   \n",
       "5958  Greater Kailash Part 2, Delhi  General Medicine   \n",
       "5959         Vileparle West, Mumbai  General Medicine   \n",
       "5960               Pitampura, Delhi           Dentist   \n",
       "\n",
       "                                     Miscellaneous_Info  Fees  \\\n",
       "0                  100% 16 Feedback Kakkanad, Ernakulam   100   \n",
       "1                 98% 76 Feedback Whitefield, Bangalore   350   \n",
       "2                                                   NaN   300   \n",
       "3     Bannerghatta Road, Bangalore ₹250 Available on...   250   \n",
       "4                 100% 4 Feedback Keelkattalai, Chennai   250   \n",
       "...                                                 ...   ...   \n",
       "5956            98% 45 Feedback Basavanagudi, Bangalore   300   \n",
       "5957                                                NaN   100   \n",
       "5958      97% 11 Feedback Greater Kailash Part 2, Delhi   600   \n",
       "5959  General Medical Consultation Viral Fever Treat...   100   \n",
       "5960  Acrylic Partial Denture Crowns and Bridges Fix...   200   \n",
       "\n",
       "                    location        city  \n",
       "0                   Kakkanad   Ernakulam  \n",
       "1                 Whitefield   Bangalore  \n",
       "2            Mathikere - BEL   Bangalore  \n",
       "3          Bannerghatta Road   Bangalore  \n",
       "4               Keelkattalai     Chennai  \n",
       "...                      ...         ...  \n",
       "5956            Basavanagudi   Bangalore  \n",
       "5957            Nungambakkam     Chennai  \n",
       "5958  Greater Kailash Part 2       Delhi  \n",
       "5959          Vileparle West      Mumbai  \n",
       "5960               Pitampura       Delhi  \n",
       "\n",
       "[5961 rows x 9 columns]"
      ]
     },
     "execution_count": 312,
     "metadata": {},
     "output_type": "execute_result"
    }
   ],
   "source": [
    "dd"
   ]
  },
  {
   "cell_type": "code",
   "execution_count": 313,
   "metadata": {},
   "outputs": [
    {
     "data": {
      "text/plain": [
       " Bangalore             1283\n",
       " Mumbai                1219\n",
       " Delhi                 1185\n",
       " Hyderabad              951\n",
       " Chennai                855\n",
       " Coimbatore             228\n",
       " Ernakulam              153\n",
       " Thiruvananthapuram      86\n",
       "e                         1\n",
       "Name: city, dtype: int64"
      ]
     },
     "execution_count": 313,
     "metadata": {},
     "output_type": "execute_result"
    }
   ],
   "source": [
    "dd['city'].value_counts()"
   ]
  },
  {
   "cell_type": "code",
   "execution_count": 314,
   "metadata": {},
   "outputs": [
    {
     "data": {
      "text/plain": [
       "HSR Layout         100\n",
       "Andheri West        70\n",
       "Dwarka              68\n",
       "Banjara Hills       64\n",
       "Mulund West         54\n",
       "                  ... \n",
       "Perumathura          1\n",
       "Rohini Sector 8      1\n",
       "Bakkarwala           1\n",
       "Kishanbagh           1\n",
       "Geeta Colony         1\n",
       "Name: location, Length: 866, dtype: int64"
      ]
     },
     "execution_count": 314,
     "metadata": {},
     "output_type": "execute_result"
    }
   ],
   "source": [
    "dd['location'].value_counts()"
   ]
  },
  {
   "cell_type": "code",
   "execution_count": 315,
   "metadata": {
    "scrolled": false
   },
   "outputs": [
    {
     "data": {
      "image/png": "[encoded data removed]",
      "text/plain": [
       "<Figure size 864x576 with 1 Axes>"
      ]
     },
     "metadata": {
      "needs_background": "light"
     },
     "output_type": "display_data"
    },
    {
     "name": "stdout",
     "output_type": "stream",
     "text": [
      " Bangalore             1283\n",
      " Mumbai                1219\n",
      " Delhi                 1185\n",
      " Hyderabad              951\n",
      " Chennai                855\n",
      " Coimbatore             228\n",
      " Ernakulam              153\n",
      " Thiruvananthapuram      86\n",
      "e                         1\n",
      "Name: city, dtype: int64\n"
     ]
    }
   ],
   "source": [
    "# Checking city count\n",
    "\n",
    "plt.subplots(figsize=(12,8))\n",
    "sns.countplot(x='city',data=dd)\n",
    "plt.title('Count of city')\n",
    "plt.xlabel('city')\n",
    "plt.ylabel('city count')\n",
    "plt.show()\n",
    "\n",
    "print(dd.city.value_counts())"
   ]
  },
  {
   "cell_type": "code",
   "execution_count": 316,
   "metadata": {},
   "outputs": [],
   "source": [
    "# Removing  'years experience' from experience column \n",
    "\n",
    "dd['Experience']=dd['Experience'].replace(' years experience','',regex=True)\n",
    "dd['Experience'] = dd['Experience'].astype(int)"
   ]
  },
  {
   "cell_type": "code",
   "execution_count": 317,
   "metadata": {},
   "outputs": [
    {
     "data": {
      "image/png": "[encoded data removed]",
      "text/plain": [
       "<Figure size 864x576 with 1 Axes>"
      ]
     },
     "metadata": {
      "needs_background": "light"
     },
     "output_type": "display_data"
    },
    {
     "name": "stdout",
     "output_type": "stream",
     "text": [
      "9     323\n",
      "10    294\n",
      "11    288\n",
      "8     282\n",
      "12    279\n",
      "     ... \n",
      "64      1\n",
      "65      1\n",
      "58      1\n",
      "66      1\n",
      "61      1\n",
      "Name: Experience, Length: 64, dtype: int64\n"
     ]
    }
   ],
   "source": [
    "# Checking experience count\n",
    "\n",
    "plt.subplots(figsize=(12,8))\n",
    "sns.countplot(x='Experience',data=dd)\n",
    "plt.title('Count of Experience')\n",
    "plt.xlabel('Experience')\n",
    "plt.ylabel('Experience count')\n",
    "plt.show()\n",
    "\n",
    "print(dd.Experience.value_counts())"
   ]
  },
  {
   "cell_type": "code",
   "execution_count": 318,
   "metadata": {},
   "outputs": [],
   "source": [
    "imp=SimpleImputer(strategy='most_frequent')\n",
    "dd['Rating']=imp.fit_transform(dd['Rating'].values.reshape(-1,1))\n",
    "\n",
    "# Removing  '%' from Rating column \n",
    "\n",
    "dd['Rating']=dd['Rating'].replace('%','',regex=True)\n",
    "\n",
    "dd['Rating'] = dd['Rating'].astype(int)"
   ]
  },
  {
   "cell_type": "code",
   "execution_count": 319,
   "metadata": {},
   "outputs": [
    {
     "data": {
      "image/png": "[encoded data removed]",
      "text/plain": [
       "<Figure size 1440x1152 with 1 Axes>"
      ]
     },
     "metadata": {
      "needs_background": "light"
     },
     "output_type": "display_data"
    },
    {
     "name": "stdout",
     "output_type": "stream",
     "text": [
      "100    3986\n",
      "98      290\n",
      "99      259\n",
      "97      241\n",
      "96      220\n",
      "95      178\n",
      "94      115\n",
      "93      109\n",
      "92       66\n",
      "90       66\n",
      "91       60\n",
      "89       42\n",
      "88       41\n",
      "85       27\n",
      "82       23\n",
      "83       21\n",
      "86       21\n",
      "80       19\n",
      "77       16\n",
      "87       14\n",
      "84       13\n",
      "79       13\n",
      "67       12\n",
      "81       12\n",
      "71        9\n",
      "76        9\n",
      "75        8\n",
      "73        8\n",
      "74        7\n",
      "60        7\n",
      "78        6\n",
      "56        5\n",
      "68        5\n",
      "69        4\n",
      "70        4\n",
      "57        3\n",
      "72        3\n",
      "33        2\n",
      "64        2\n",
      "62        2\n",
      "63        2\n",
      "55        2\n",
      "48        1\n",
      "40        1\n",
      "7         1\n",
      "65        1\n",
      "45        1\n",
      "53        1\n",
      "47        1\n",
      "58        1\n",
      "36        1\n",
      "Name: Rating, dtype: int64\n"
     ]
    }
   ],
   "source": [
    "# Checking rating count\n",
    "\n",
    "plt.subplots(figsize=(20,16))\n",
    "sns.countplot(x='Rating',data=dd)\n",
    "plt.title('Count of Rating')\n",
    "plt.xlabel('rating')\n",
    "plt.ylabel('rating count')\n",
    "plt.show()\n",
    "\n",
    "print(dd.Rating.value_counts())"
   ]
  },
  {
   "cell_type": "code",
   "execution_count": 320,
   "metadata": {},
   "outputs": [],
   "source": [
    "# Dropping Misc info and place column\n",
    "\n",
    "dd.drop(['Place','Miscellaneous_Info'],axis=1,inplace=True)"
   ]
  },
  {
   "cell_type": "code",
   "execution_count": 321,
   "metadata": {},
   "outputs": [
    {
     "data": {
      "text/html": [
       "<div>\n",
       "<style scoped>\n",
       "    .dataframe tbody tr th:only-of-type {\n",
       "        vertical-align: middle;\n",
       "    }\n",
       "\n",
       "    .dataframe tbody tr th {\n",
       "        vertical-align: top;\n",
       "    }\n",
       "\n",
       "    .dataframe thead th {\n",
       "        text-align: right;\n",
       "    }\n",
       "</style>\n",
       "<table border=\"1\" class=\"dataframe\">\n",
       "  <thead>\n",
       "    <tr style=\"text-align: right;\">\n",
       "      <th></th>\n",
       "      <th>Qualification</th>\n",
       "      <th>Experience</th>\n",
       "      <th>Rating</th>\n",
       "      <th>Profile</th>\n",
       "      <th>Fees</th>\n",
       "      <th>location</th>\n",
       "      <th>city</th>\n",
       "    </tr>\n",
       "  </thead>\n",
       "  <tbody>\n",
       "    <tr>\n",
       "      <th>0</th>\n",
       "      <td>BHMS, MD - Homeopathy</td>\n",
       "      <td>24</td>\n",
       "      <td>100</td>\n",
       "      <td>Homeopath</td>\n",
       "      <td>100</td>\n",
       "      <td>Kakkanad</td>\n",
       "      <td>Ernakulam</td>\n",
       "    </tr>\n",
       "    <tr>\n",
       "      <th>1</th>\n",
       "      <td>BAMS, MD - Ayurveda Medicine</td>\n",
       "      <td>12</td>\n",
       "      <td>98</td>\n",
       "      <td>Ayurveda</td>\n",
       "      <td>350</td>\n",
       "      <td>Whitefield</td>\n",
       "      <td>Bangalore</td>\n",
       "    </tr>\n",
       "    <tr>\n",
       "      <th>2</th>\n",
       "      <td>MBBS, MS - Otorhinolaryngology</td>\n",
       "      <td>9</td>\n",
       "      <td>100</td>\n",
       "      <td>ENT Specialist</td>\n",
       "      <td>300</td>\n",
       "      <td>Mathikere - BEL</td>\n",
       "      <td>Bangalore</td>\n",
       "    </tr>\n",
       "    <tr>\n",
       "      <th>3</th>\n",
       "      <td>BSc - Zoology, BAMS</td>\n",
       "      <td>12</td>\n",
       "      <td>100</td>\n",
       "      <td>Ayurveda</td>\n",
       "      <td>250</td>\n",
       "      <td>Bannerghatta Road</td>\n",
       "      <td>Bangalore</td>\n",
       "    </tr>\n",
       "    <tr>\n",
       "      <th>4</th>\n",
       "      <td>BAMS</td>\n",
       "      <td>20</td>\n",
       "      <td>100</td>\n",
       "      <td>Ayurveda</td>\n",
       "      <td>250</td>\n",
       "      <td>Keelkattalai</td>\n",
       "      <td>Chennai</td>\n",
       "    </tr>\n",
       "    <tr>\n",
       "      <th>...</th>\n",
       "      <td>...</td>\n",
       "      <td>...</td>\n",
       "      <td>...</td>\n",
       "      <td>...</td>\n",
       "      <td>...</td>\n",
       "      <td>...</td>\n",
       "      <td>...</td>\n",
       "    </tr>\n",
       "    <tr>\n",
       "      <th>5956</th>\n",
       "      <td>MBBS, MS - ENT</td>\n",
       "      <td>19</td>\n",
       "      <td>98</td>\n",
       "      <td>ENT Specialist</td>\n",
       "      <td>300</td>\n",
       "      <td>Basavanagudi</td>\n",
       "      <td>Bangalore</td>\n",
       "    </tr>\n",
       "    <tr>\n",
       "      <th>5957</th>\n",
       "      <td>MBBS</td>\n",
       "      <td>33</td>\n",
       "      <td>100</td>\n",
       "      <td>General Medicine</td>\n",
       "      <td>100</td>\n",
       "      <td>Nungambakkam</td>\n",
       "      <td>Chennai</td>\n",
       "    </tr>\n",
       "    <tr>\n",
       "      <th>5958</th>\n",
       "      <td>MBBS</td>\n",
       "      <td>41</td>\n",
       "      <td>97</td>\n",
       "      <td>General Medicine</td>\n",
       "      <td>600</td>\n",
       "      <td>Greater Kailash Part 2</td>\n",
       "      <td>Delhi</td>\n",
       "    </tr>\n",
       "    <tr>\n",
       "      <th>5959</th>\n",
       "      <td>MBBS, MD - General Medicine</td>\n",
       "      <td>15</td>\n",
       "      <td>90</td>\n",
       "      <td>General Medicine</td>\n",
       "      <td>100</td>\n",
       "      <td>Vileparle West</td>\n",
       "      <td>Mumbai</td>\n",
       "    </tr>\n",
       "    <tr>\n",
       "      <th>5960</th>\n",
       "      <td>BDS, MDS - Orthodontics</td>\n",
       "      <td>17</td>\n",
       "      <td>100</td>\n",
       "      <td>Dentist</td>\n",
       "      <td>200</td>\n",
       "      <td>Pitampura</td>\n",
       "      <td>Delhi</td>\n",
       "    </tr>\n",
       "  </tbody>\n",
       "</table>\n",
       "<p>5961 rows × 7 columns</p>\n",
       "</div>"
      ],
      "text/plain": [
       "                       Qualification  Experience  Rating           Profile  \\\n",
       "0              BHMS, MD - Homeopathy          24     100         Homeopath   \n",
       "1       BAMS, MD - Ayurveda Medicine          12      98          Ayurveda   \n",
       "2     MBBS, MS - Otorhinolaryngology           9     100    ENT Specialist   \n",
       "3                BSc - Zoology, BAMS          12     100          Ayurveda   \n",
       "4                               BAMS          20     100          Ayurveda   \n",
       "...                              ...         ...     ...               ...   \n",
       "5956                  MBBS, MS - ENT          19      98    ENT Specialist   \n",
       "5957                            MBBS          33     100  General Medicine   \n",
       "5958                            MBBS          41      97  General Medicine   \n",
       "5959     MBBS, MD - General Medicine          15      90  General Medicine   \n",
       "5960         BDS, MDS - Orthodontics          17     100           Dentist   \n",
       "\n",
       "      Fees                location        city  \n",
       "0      100                Kakkanad   Ernakulam  \n",
       "1      350              Whitefield   Bangalore  \n",
       "2      300         Mathikere - BEL   Bangalore  \n",
       "3      250       Bannerghatta Road   Bangalore  \n",
       "4      250            Keelkattalai     Chennai  \n",
       "...    ...                     ...         ...  \n",
       "5956   300            Basavanagudi   Bangalore  \n",
       "5957   100            Nungambakkam     Chennai  \n",
       "5958   600  Greater Kailash Part 2       Delhi  \n",
       "5959   100          Vileparle West      Mumbai  \n",
       "5960   200               Pitampura       Delhi  \n",
       "\n",
       "[5961 rows x 7 columns]"
      ]
     },
     "execution_count": 321,
     "metadata": {},
     "output_type": "execute_result"
    }
   ],
   "source": [
    "dd"
   ]
  },
  {
   "cell_type": "code",
   "execution_count": 322,
   "metadata": {},
   "outputs": [],
   "source": [
    "# Convert profile column into numeric data\n",
    "\n",
    "dd['Profile']=dd['Profile'].replace({'Dentist':0,'General Medicine':1,'Dermatologists':2,'Homeopath':3,'Ayurveda':4,'ENT Specialist':5})"
   ]
  },
  {
   "cell_type": "code",
   "execution_count": 323,
   "metadata": {},
   "outputs": [
    {
     "data": {
      "text/plain": [
       "Qualification    object\n",
       "Experience        int32\n",
       "Rating            int32\n",
       "Profile           int64\n",
       "Fees              int64\n",
       "location         object\n",
       "city             object\n",
       "dtype: object"
      ]
     },
     "execution_count": 323,
     "metadata": {},
     "output_type": "execute_result"
    }
   ],
   "source": [
    "dd.dtypes"
   ]
  },
  {
   "cell_type": "code",
   "execution_count": 324,
   "metadata": {},
   "outputs": [],
   "source": [
    "from sklearn.preprocessing import LabelEncoder\n",
    "le=LabelEncoder()\n",
    "list1=['Qualification','location','city']\n",
    "\n",
    "for val in list1:\n",
    "    dd[val]=le.fit_transform(dd[val].astype(str))"
   ]
  },
  {
   "cell_type": "code",
   "execution_count": 325,
   "metadata": {},
   "outputs": [
    {
     "data": {
      "text/html": [
       "<div>\n",
       "<style scoped>\n",
       "    .dataframe tbody tr th:only-of-type {\n",
       "        vertical-align: middle;\n",
       "    }\n",
       "\n",
       "    .dataframe tbody tr th {\n",
       "        vertical-align: top;\n",
       "    }\n",
       "\n",
       "    .dataframe thead th {\n",
       "        text-align: right;\n",
       "    }\n",
       "</style>\n",
       "<table border=\"1\" class=\"dataframe\">\n",
       "  <thead>\n",
       "    <tr style=\"text-align: right;\">\n",
       "      <th></th>\n",
       "      <th>Qualification</th>\n",
       "      <th>Experience</th>\n",
       "      <th>Rating</th>\n",
       "      <th>Profile</th>\n",
       "      <th>Fees</th>\n",
       "      <th>location</th>\n",
       "      <th>city</th>\n",
       "    </tr>\n",
       "  </thead>\n",
       "  <tbody>\n",
       "    <tr>\n",
       "      <th>0</th>\n",
       "      <td>401</td>\n",
       "      <td>24</td>\n",
       "      <td>100</td>\n",
       "      <td>3</td>\n",
       "      <td>100</td>\n",
       "      <td>296</td>\n",
       "      <td>4</td>\n",
       "    </tr>\n",
       "    <tr>\n",
       "      <th>1</th>\n",
       "      <td>73</td>\n",
       "      <td>12</td>\n",
       "      <td>98</td>\n",
       "      <td>4</td>\n",
       "      <td>350</td>\n",
       "      <td>855</td>\n",
       "      <td>0</td>\n",
       "    </tr>\n",
       "    <tr>\n",
       "      <th>2</th>\n",
       "      <td>1135</td>\n",
       "      <td>9</td>\n",
       "      <td>100</td>\n",
       "      <td>5</td>\n",
       "      <td>300</td>\n",
       "      <td>452</td>\n",
       "      <td>0</td>\n",
       "    </tr>\n",
       "    <tr>\n",
       "      <th>3</th>\n",
       "      <td>464</td>\n",
       "      <td>12</td>\n",
       "      <td>100</td>\n",
       "      <td>4</td>\n",
       "      <td>250</td>\n",
       "      <td>68</td>\n",
       "      <td>0</td>\n",
       "    </tr>\n",
       "    <tr>\n",
       "      <th>4</th>\n",
       "      <td>10</td>\n",
       "      <td>20</td>\n",
       "      <td>100</td>\n",
       "      <td>4</td>\n",
       "      <td>250</td>\n",
       "      <td>335</td>\n",
       "      <td>1</td>\n",
       "    </tr>\n",
       "    <tr>\n",
       "      <th>...</th>\n",
       "      <td>...</td>\n",
       "      <td>...</td>\n",
       "      <td>...</td>\n",
       "      <td>...</td>\n",
       "      <td>...</td>\n",
       "      <td>...</td>\n",
       "      <td>...</td>\n",
       "    </tr>\n",
       "    <tr>\n",
       "      <th>5956</th>\n",
       "      <td>1075</td>\n",
       "      <td>19</td>\n",
       "      <td>98</td>\n",
       "      <td>5</td>\n",
       "      <td>300</td>\n",
       "      <td>70</td>\n",
       "      <td>0</td>\n",
       "    </tr>\n",
       "    <tr>\n",
       "      <th>5957</th>\n",
       "      <td>596</td>\n",
       "      <td>33</td>\n",
       "      <td>100</td>\n",
       "      <td>1</td>\n",
       "      <td>100</td>\n",
       "      <td>535</td>\n",
       "      <td>1</td>\n",
       "    </tr>\n",
       "    <tr>\n",
       "      <th>5958</th>\n",
       "      <td>596</td>\n",
       "      <td>41</td>\n",
       "      <td>97</td>\n",
       "      <td>1</td>\n",
       "      <td>600</td>\n",
       "      <td>215</td>\n",
       "      <td>3</td>\n",
       "    </tr>\n",
       "    <tr>\n",
       "      <th>5959</th>\n",
       "      <td>943</td>\n",
       "      <td>15</td>\n",
       "      <td>90</td>\n",
       "      <td>1</td>\n",
       "      <td>100</td>\n",
       "      <td>840</td>\n",
       "      <td>6</td>\n",
       "    </tr>\n",
       "    <tr>\n",
       "      <th>5960</th>\n",
       "      <td>243</td>\n",
       "      <td>17</td>\n",
       "      <td>100</td>\n",
       "      <td>0</td>\n",
       "      <td>200</td>\n",
       "      <td>597</td>\n",
       "      <td>3</td>\n",
       "    </tr>\n",
       "  </tbody>\n",
       "</table>\n",
       "<p>5961 rows × 7 columns</p>\n",
       "</div>"
      ],
      "text/plain": [
       "      Qualification  Experience  Rating  Profile  Fees  location  city\n",
       "0               401          24     100        3   100       296     4\n",
       "1                73          12      98        4   350       855     0\n",
       "2              1135           9     100        5   300       452     0\n",
       "3               464          12     100        4   250        68     0\n",
       "4                10          20     100        4   250       335     1\n",
       "...             ...         ...     ...      ...   ...       ...   ...\n",
       "5956           1075          19      98        5   300        70     0\n",
       "5957            596          33     100        1   100       535     1\n",
       "5958            596          41      97        1   600       215     3\n",
       "5959            943          15      90        1   100       840     6\n",
       "5960            243          17     100        0   200       597     3\n",
       "\n",
       "[5961 rows x 7 columns]"
      ]
     },
     "execution_count": 325,
     "metadata": {},
     "output_type": "execute_result"
    }
   ],
   "source": [
    "dd"
   ]
  },
  {
   "cell_type": "code",
   "execution_count": 326,
   "metadata": {},
   "outputs": [
    {
     "data": {
      "image/png": "[encoded data removed]",
      "text/plain": [
       "<Figure size 432x288 with 1 Axes>"
      ]
     },
     "metadata": {
      "needs_background": "light"
     },
     "output_type": "display_data"
    },
    {
     "data": {
      "image/png": "[encoded data removed]",
      "text/plain": [
       "<Figure size 432x288 with 1 Axes>"
      ]
     },
     "metadata": {
      "needs_background": "light"
     },
     "output_type": "display_data"
    },
    {
     "data": {
      "image/png": "[encoded data removed]",
      "text/plain": [
       "<Figure size 432x288 with 1 Axes>"
      ]
     },
     "metadata": {
      "needs_background": "light"
     },
     "output_type": "display_data"
    },
    {
     "data": {
      "image/png": "[encoded data removed]",
      "text/plain": [
       "<Figure size 432x288 with 1 Axes>"
      ]
     },
     "metadata": {
      "needs_background": "light"
     },
     "output_type": "display_data"
    },
    {
     "data": {
      "image/png": "[encoded data removed]",
      "text/plain": [
       "<Figure size 432x288 with 1 Axes>"
      ]
     },
     "metadata": {
      "needs_background": "light"
     },
     "output_type": "display_data"
    },
    {
     "data": {
      "image/png": "[encoded data removed]",
      "text/plain": [
       "<Figure size 432x288 with 1 Axes>"
      ]
     },
     "metadata": {
      "needs_background": "light"
     },
     "output_type": "display_data"
    },
    {
     "data": {
      "image/png": "[encoded data removed]",
      "text/plain": [
       "<Figure size 432x288 with 1 Axes>"
      ]
     },
     "metadata": {
      "needs_background": "light"
     },
     "output_type": "display_data"
    }
   ],
   "source": [
    "for i in dd.columns:\n",
    "    sns.violinplot(dd[i])\n",
    "    plt.show()"
   ]
  },
  {
   "cell_type": "markdown",
   "metadata": {},
   "source": [
    "# Bivariate Analysis"
   ]
  },
  {
   "cell_type": "code",
   "execution_count": 327,
   "metadata": {},
   "outputs": [
    {
     "data": {
      "text/plain": [
       "<seaborn.axisgrid.PairGrid at 0x1f9901b5a60>"
      ]
     },
     "execution_count": 327,
     "metadata": {},
     "output_type": "execute_result"
    },
    {
     "data": {
      "image/png": "[encoded data removed]",
      "text/plain": [
       "<Figure size 1512x360 with 6 Axes>"
      ]
     },
     "metadata": {
      "needs_background": "light"
     },
     "output_type": "display_data"
    }
   ],
   "source": [
    "sns.pairplot(dd, x_vars=['Qualification', 'Experience', 'Rating', 'Profile', 'location','city'], y_vars='Fees' ,size=5, aspect=0.7, kind='reg')"
   ]
  },
  {
   "cell_type": "code",
   "execution_count": 328,
   "metadata": {},
   "outputs": [
    {
     "data": {
      "text/plain": [
       "Index(['Qualification', 'Experience', 'Rating', 'Profile', 'Fees', 'location',\n",
       "       'city'],\n",
       "      dtype='object')"
      ]
     },
     "execution_count": 328,
     "metadata": {},
     "output_type": "execute_result"
    }
   ],
   "source": [
    "dd.columns"
   ]
  },
  {
   "cell_type": "code",
   "execution_count": 330,
   "metadata": {},
   "outputs": [
    {
     "data": {
      "text/plain": [
       "Qualification    0\n",
       "Experience       0\n",
       "Rating           0\n",
       "Profile          0\n",
       "Fees             0\n",
       "location         0\n",
       "city             0\n",
       "dtype: int64"
      ]
     },
     "execution_count": 330,
     "metadata": {},
     "output_type": "execute_result"
    }
   ],
   "source": [
    "dd.isnull().sum()"
   ]
  },
  {
   "cell_type": "markdown",
   "metadata": {},
   "source": [
    "# Removing Outliers"
   ]
  },
  {
   "cell_type": "code",
   "execution_count": 331,
   "metadata": {},
   "outputs": [
    {
     "data": {
      "text/plain": [
       "array([[4.73305738e-01, 6.00978850e-01, 4.06282226e-01, ...,\n",
       "        1.08926083e+00, 4.47261369e-01, 4.14944278e-01],\n",
       "       [1.26594438e+00, 4.76040293e-01, 6.62066312e-02, ...,\n",
       "        2.20295441e-01, 1.74357712e+00, 1.32480100e+00],\n",
       "       [1.30046489e+00, 7.45295079e-01, 4.06282226e-01, ...,\n",
       "        4.16158134e-02, 1.64135417e-01, 1.32480100e+00],\n",
       "       ...,\n",
       "       [2.07239780e-03, 2.12675597e+00, 1.03831166e-01, ...,\n",
       "        1.52985171e+00, 7.64717393e-01, 1.99920401e-02],\n",
       "       [8.36481290e-01, 2.06785507e-01, 1.29409575e+00, ...,\n",
       "        1.08926083e+00, 1.68478896e+00, 1.28481691e+00],\n",
       "       [8.55125573e-01, 2.72823168e-02, 4.06282226e-01, ...,\n",
       "        5.65438323e-01, 7.32420892e-01, 1.99920401e-02]])"
      ]
     },
     "execution_count": 331,
     "metadata": {},
     "output_type": "execute_result"
    }
   ],
   "source": [
    "from scipy.stats import zscore\n",
    "z=np.abs(zscore(dd))\n",
    "z"
   ]
  },
  {
   "cell_type": "code",
   "execution_count": 332,
   "metadata": {},
   "outputs": [
    {
     "name": "stdout",
     "output_type": "stream",
     "text": [
      "(array([  18,   55,   67,  105,  110,  140,  178,  183,  209,  275,  293,\n",
      "        309,  325,  333,  372,  377,  458,  465,  585,  590,  632,  692,\n",
      "        731,  787,  788,  810,  815,  851,  901,  911,  918,  968,  979,\n",
      "        987,  990,  998, 1009, 1016, 1018, 1111, 1170, 1240, 1303, 1314,\n",
      "       1392, 1425, 1433, 1437, 1444, 1475, 1592, 1594, 1614, 1631, 1635,\n",
      "       1648, 1717, 1741, 1743, 1747, 1778, 1796, 1852, 1860, 1877, 1937,\n",
      "       1981, 2023, 2062, 2089, 2161, 2165, 2202, 2252, 2262, 2277, 2281,\n",
      "       2309, 2323, 2391, 2393, 2428, 2478, 2500, 2522, 2548, 2585, 2623,\n",
      "       2631, 2646, 2670, 2708, 2715, 2726, 2738, 2758, 2829, 2833, 2962,\n",
      "       2991, 3093, 3120, 3126, 3144, 3180, 3222, 3254, 3270, 3295, 3333,\n",
      "       3365, 3367, 3463, 3478, 3493, 3526, 3537, 3593, 3604, 3608, 3615,\n",
      "       3627, 3661, 3676, 3690, 3766, 3783, 3820, 3861, 3942, 3960, 4040,\n",
      "       4052, 4055, 4058, 4135, 4167, 4174, 4212, 4212, 4219, 4257, 4344,\n",
      "       4459, 4474, 4478, 4509, 4581, 4608, 4609, 4612, 4730, 4763, 4775,\n",
      "       4808, 4825, 4835, 4843, 4851, 4880, 4971, 5028, 5127, 5195, 5244,\n",
      "       5249, 5250, 5262, 5265, 5277, 5298, 5311, 5316, 5351, 5410, 5422,\n",
      "       5422, 5461, 5502, 5523, 5531, 5587, 5612, 5615, 5636, 5637, 5647,\n",
      "       5663, 5664, 5720, 5807, 5840, 5862, 5892, 5929, 5942], dtype=int64), array([2, 2, 2, 1, 1, 2, 2, 1, 2, 4, 4, 2, 1, 2, 1, 2, 2, 2, 2, 2, 2, 2,\n",
      "       2, 2, 2, 2, 2, 2, 1, 2, 2, 2, 2, 4, 2, 2, 1, 2, 2, 1, 2, 2, 2, 4,\n",
      "       2, 2, 2, 2, 2, 2, 2, 2, 2, 4, 2, 2, 2, 2, 2, 2, 2, 2, 2, 1, 2, 2,\n",
      "       1, 1, 1, 2, 2, 4, 1, 4, 1, 2, 1, 2, 2, 2, 4, 4, 2, 2, 4, 2, 2, 4,\n",
      "       1, 2, 2, 4, 2, 2, 2, 2, 2, 2, 2, 2, 2, 2, 2, 2, 1, 2, 2, 2, 2, 2,\n",
      "       4, 2, 2, 1, 1, 2, 2, 2, 2, 1, 2, 2, 2, 2, 2, 2, 2, 2, 2, 1, 1, 4,\n",
      "       2, 2, 2, 2, 1, 2, 1, 2, 2, 1, 1, 2, 2, 2, 2, 4, 2, 2, 2, 4, 1, 1,\n",
      "       2, 2, 4, 2, 2, 2, 2, 2, 2, 4, 2, 2, 4, 2, 1, 1, 2, 4, 2, 2, 1, 1,\n",
      "       2, 2, 2, 2, 2, 1, 2, 2, 2, 1, 2, 2, 1, 1, 1, 2, 2, 2, 2, 1],\n",
      "      dtype=int64))\n"
     ]
    }
   ],
   "source": [
    "threshold=3\n",
    "print(np.where(z>3))"
   ]
  },
  {
   "cell_type": "code",
   "execution_count": 333,
   "metadata": {},
   "outputs": [],
   "source": [
    "dd_new=dd[(z<3).all(axis=1)]"
   ]
  },
  {
   "cell_type": "code",
   "execution_count": 334,
   "metadata": {},
   "outputs": [
    {
     "data": {
      "text/plain": [
       "(5767, 7)"
      ]
     },
     "execution_count": 334,
     "metadata": {},
     "output_type": "execute_result"
    }
   ],
   "source": [
    "dd_new.shape"
   ]
  },
  {
   "cell_type": "code",
   "execution_count": 335,
   "metadata": {},
   "outputs": [
    {
     "data": {
      "text/plain": [
       "(5961, 7)"
      ]
     },
     "execution_count": 335,
     "metadata": {},
     "output_type": "execute_result"
    }
   ],
   "source": [
    "dd.shape"
   ]
  },
  {
   "cell_type": "code",
   "execution_count": 336,
   "metadata": {},
   "outputs": [],
   "source": [
    "dd=pd.DataFrame(data=dd_new)"
   ]
  },
  {
   "cell_type": "markdown",
   "metadata": {},
   "source": [
    "Observation - Now approx 200 rows removed due to outliers present."
   ]
  },
  {
   "cell_type": "markdown",
   "metadata": {},
   "source": [
    "# Checking skewness"
   ]
  },
  {
   "cell_type": "code",
   "execution_count": 337,
   "metadata": {},
   "outputs": [
    {
     "data": {
      "text/plain": [
       "Qualification    0.278898\n",
       "Experience       0.918798\n",
       "Rating          -2.696433\n",
       "Profile          0.296117\n",
       "Fees             0.725505\n",
       "location         0.118220\n",
       "city             0.001155\n",
       "dtype: float64"
      ]
     },
     "execution_count": 337,
     "metadata": {},
     "output_type": "execute_result"
    }
   ],
   "source": [
    "dd.skew()"
   ]
  },
  {
   "cell_type": "code",
   "execution_count": 338,
   "metadata": {},
   "outputs": [],
   "source": [
    "# Treating skewness\n",
    "dd.skew()\n",
    "for col in dd.skew().index:\n",
    "    if dd[col].skew()>0.55:\n",
    "        dd[col]=np.sqrt(dd[col])\n",
    "        if dd[col].skew()<-0.55:\n",
    "            dd[col]=np.cbrt(dd[col]) \n",
    "            \n",
    "        \n",
    "        \n",
    "        "
   ]
  },
  {
   "cell_type": "code",
   "execution_count": 339,
   "metadata": {
    "scrolled": true
   },
   "outputs": [
    {
     "data": {
      "text/plain": [
       "Qualification    0.278898\n",
       "Experience       0.033997\n",
       "Rating          -2.696433\n",
       "Profile          0.296117\n",
       "Fees             0.233100\n",
       "location         0.118220\n",
       "city             0.001155\n",
       "dtype: float64"
      ]
     },
     "execution_count": 339,
     "metadata": {},
     "output_type": "execute_result"
    }
   ],
   "source": [
    "dd.skew()"
   ]
  },
  {
   "cell_type": "code",
   "execution_count": 340,
   "metadata": {},
   "outputs": [
    {
     "data": {
      "text/html": [
       "<div>\n",
       "<style scoped>\n",
       "    .dataframe tbody tr th:only-of-type {\n",
       "        vertical-align: middle;\n",
       "    }\n",
       "\n",
       "    .dataframe tbody tr th {\n",
       "        vertical-align: top;\n",
       "    }\n",
       "\n",
       "    .dataframe thead th {\n",
       "        text-align: right;\n",
       "    }\n",
       "</style>\n",
       "<table border=\"1\" class=\"dataframe\">\n",
       "  <thead>\n",
       "    <tr style=\"text-align: right;\">\n",
       "      <th></th>\n",
       "      <th>Qualification</th>\n",
       "      <th>Experience</th>\n",
       "      <th>Rating</th>\n",
       "      <th>Profile</th>\n",
       "      <th>Fees</th>\n",
       "      <th>location</th>\n",
       "      <th>city</th>\n",
       "    </tr>\n",
       "  </thead>\n",
       "  <tbody>\n",
       "    <tr>\n",
       "      <th>0</th>\n",
       "      <td>401</td>\n",
       "      <td>4.898979</td>\n",
       "      <td>100</td>\n",
       "      <td>3</td>\n",
       "      <td>10.000000</td>\n",
       "      <td>296</td>\n",
       "      <td>4</td>\n",
       "    </tr>\n",
       "    <tr>\n",
       "      <th>1</th>\n",
       "      <td>73</td>\n",
       "      <td>3.464102</td>\n",
       "      <td>98</td>\n",
       "      <td>4</td>\n",
       "      <td>18.708287</td>\n",
       "      <td>855</td>\n",
       "      <td>0</td>\n",
       "    </tr>\n",
       "    <tr>\n",
       "      <th>2</th>\n",
       "      <td>1135</td>\n",
       "      <td>3.000000</td>\n",
       "      <td>100</td>\n",
       "      <td>5</td>\n",
       "      <td>17.320508</td>\n",
       "      <td>452</td>\n",
       "      <td>0</td>\n",
       "    </tr>\n",
       "    <tr>\n",
       "      <th>3</th>\n",
       "      <td>464</td>\n",
       "      <td>3.464102</td>\n",
       "      <td>100</td>\n",
       "      <td>4</td>\n",
       "      <td>15.811388</td>\n",
       "      <td>68</td>\n",
       "      <td>0</td>\n",
       "    </tr>\n",
       "    <tr>\n",
       "      <th>4</th>\n",
       "      <td>10</td>\n",
       "      <td>4.472136</td>\n",
       "      <td>100</td>\n",
       "      <td>4</td>\n",
       "      <td>15.811388</td>\n",
       "      <td>335</td>\n",
       "      <td>1</td>\n",
       "    </tr>\n",
       "    <tr>\n",
       "      <th>...</th>\n",
       "      <td>...</td>\n",
       "      <td>...</td>\n",
       "      <td>...</td>\n",
       "      <td>...</td>\n",
       "      <td>...</td>\n",
       "      <td>...</td>\n",
       "      <td>...</td>\n",
       "    </tr>\n",
       "    <tr>\n",
       "      <th>5956</th>\n",
       "      <td>1075</td>\n",
       "      <td>4.358899</td>\n",
       "      <td>98</td>\n",
       "      <td>5</td>\n",
       "      <td>17.320508</td>\n",
       "      <td>70</td>\n",
       "      <td>0</td>\n",
       "    </tr>\n",
       "    <tr>\n",
       "      <th>5957</th>\n",
       "      <td>596</td>\n",
       "      <td>5.744563</td>\n",
       "      <td>100</td>\n",
       "      <td>1</td>\n",
       "      <td>10.000000</td>\n",
       "      <td>535</td>\n",
       "      <td>1</td>\n",
       "    </tr>\n",
       "    <tr>\n",
       "      <th>5958</th>\n",
       "      <td>596</td>\n",
       "      <td>6.403124</td>\n",
       "      <td>97</td>\n",
       "      <td>1</td>\n",
       "      <td>24.494897</td>\n",
       "      <td>215</td>\n",
       "      <td>3</td>\n",
       "    </tr>\n",
       "    <tr>\n",
       "      <th>5959</th>\n",
       "      <td>943</td>\n",
       "      <td>3.872983</td>\n",
       "      <td>90</td>\n",
       "      <td>1</td>\n",
       "      <td>10.000000</td>\n",
       "      <td>840</td>\n",
       "      <td>6</td>\n",
       "    </tr>\n",
       "    <tr>\n",
       "      <th>5960</th>\n",
       "      <td>243</td>\n",
       "      <td>4.123106</td>\n",
       "      <td>100</td>\n",
       "      <td>0</td>\n",
       "      <td>14.142136</td>\n",
       "      <td>597</td>\n",
       "      <td>3</td>\n",
       "    </tr>\n",
       "  </tbody>\n",
       "</table>\n",
       "<p>5767 rows × 7 columns</p>\n",
       "</div>"
      ],
      "text/plain": [
       "      Qualification  Experience  Rating  Profile       Fees  location  city\n",
       "0               401    4.898979     100        3  10.000000       296     4\n",
       "1                73    3.464102      98        4  18.708287       855     0\n",
       "2              1135    3.000000     100        5  17.320508       452     0\n",
       "3               464    3.464102     100        4  15.811388        68     0\n",
       "4                10    4.472136     100        4  15.811388       335     1\n",
       "...             ...         ...     ...      ...        ...       ...   ...\n",
       "5956           1075    4.358899      98        5  17.320508        70     0\n",
       "5957            596    5.744563     100        1  10.000000       535     1\n",
       "5958            596    6.403124      97        1  24.494897       215     3\n",
       "5959            943    3.872983      90        1  10.000000       840     6\n",
       "5960            243    4.123106     100        0  14.142136       597     3\n",
       "\n",
       "[5767 rows x 7 columns]"
      ]
     },
     "execution_count": 340,
     "metadata": {},
     "output_type": "execute_result"
    }
   ],
   "source": [
    "dd"
   ]
  },
  {
   "cell_type": "code",
   "execution_count": 341,
   "metadata": {},
   "outputs": [],
   "source": [
    "# Separating data into input and output variables.\n",
    "\n",
    "dd_x=dd.drop(columns=['Fees'])\n",
    "y=pd.DataFrame(dd['Fees'])"
   ]
  },
  {
   "cell_type": "code",
   "execution_count": 342,
   "metadata": {},
   "outputs": [
    {
     "data": {
      "text/html": [
       "<div>\n",
       "<style scoped>\n",
       "    .dataframe tbody tr th:only-of-type {\n",
       "        vertical-align: middle;\n",
       "    }\n",
       "\n",
       "    .dataframe tbody tr th {\n",
       "        vertical-align: top;\n",
       "    }\n",
       "\n",
       "    .dataframe thead th {\n",
       "        text-align: right;\n",
       "    }\n",
       "</style>\n",
       "<table border=\"1\" class=\"dataframe\">\n",
       "  <thead>\n",
       "    <tr style=\"text-align: right;\">\n",
       "      <th></th>\n",
       "      <th>Fees</th>\n",
       "    </tr>\n",
       "  </thead>\n",
       "  <tbody>\n",
       "    <tr>\n",
       "      <th>0</th>\n",
       "      <td>10.000000</td>\n",
       "    </tr>\n",
       "    <tr>\n",
       "      <th>1</th>\n",
       "      <td>18.708287</td>\n",
       "    </tr>\n",
       "    <tr>\n",
       "      <th>2</th>\n",
       "      <td>17.320508</td>\n",
       "    </tr>\n",
       "    <tr>\n",
       "      <th>3</th>\n",
       "      <td>15.811388</td>\n",
       "    </tr>\n",
       "    <tr>\n",
       "      <th>4</th>\n",
       "      <td>15.811388</td>\n",
       "    </tr>\n",
       "    <tr>\n",
       "      <th>...</th>\n",
       "      <td>...</td>\n",
       "    </tr>\n",
       "    <tr>\n",
       "      <th>5956</th>\n",
       "      <td>17.320508</td>\n",
       "    </tr>\n",
       "    <tr>\n",
       "      <th>5957</th>\n",
       "      <td>10.000000</td>\n",
       "    </tr>\n",
       "    <tr>\n",
       "      <th>5958</th>\n",
       "      <td>24.494897</td>\n",
       "    </tr>\n",
       "    <tr>\n",
       "      <th>5959</th>\n",
       "      <td>10.000000</td>\n",
       "    </tr>\n",
       "    <tr>\n",
       "      <th>5960</th>\n",
       "      <td>14.142136</td>\n",
       "    </tr>\n",
       "  </tbody>\n",
       "</table>\n",
       "<p>5767 rows × 1 columns</p>\n",
       "</div>"
      ],
      "text/plain": [
       "           Fees\n",
       "0     10.000000\n",
       "1     18.708287\n",
       "2     17.320508\n",
       "3     15.811388\n",
       "4     15.811388\n",
       "...         ...\n",
       "5956  17.320508\n",
       "5957  10.000000\n",
       "5958  24.494897\n",
       "5959  10.000000\n",
       "5960  14.142136\n",
       "\n",
       "[5767 rows x 1 columns]"
      ]
     },
     "execution_count": 342,
     "metadata": {},
     "output_type": "execute_result"
    }
   ],
   "source": [
    "y"
   ]
  },
  {
   "cell_type": "code",
   "execution_count": 343,
   "metadata": {},
   "outputs": [],
   "source": [
    "# Scaling the input Variable\n",
    "\n",
    "from sklearn.preprocessing import StandardScaler\n",
    "sc=StandardScaler()\n",
    "x=sc.fit_transform(dd_x)\n",
    "x=pd.DataFrame(x,columns=dd_x.columns)"
   ]
  },
  {
   "cell_type": "code",
   "execution_count": 344,
   "metadata": {},
   "outputs": [
    {
     "data": {
      "text/html": [
       "<div>\n",
       "<style scoped>\n",
       "    .dataframe tbody tr th:only-of-type {\n",
       "        vertical-align: middle;\n",
       "    }\n",
       "\n",
       "    .dataframe tbody tr th {\n",
       "        vertical-align: top;\n",
       "    }\n",
       "\n",
       "    .dataframe thead th {\n",
       "        text-align: right;\n",
       "    }\n",
       "</style>\n",
       "<table border=\"1\" class=\"dataframe\">\n",
       "  <thead>\n",
       "    <tr style=\"text-align: right;\">\n",
       "      <th></th>\n",
       "      <th>Qualification</th>\n",
       "      <th>Experience</th>\n",
       "      <th>Rating</th>\n",
       "      <th>Profile</th>\n",
       "      <th>location</th>\n",
       "      <th>city</th>\n",
       "    </tr>\n",
       "  </thead>\n",
       "  <tbody>\n",
       "    <tr>\n",
       "      <th>0</th>\n",
       "      <td>-0.451294</td>\n",
       "      <td>0.763439</td>\n",
       "      <td>0.485641</td>\n",
       "      <td>0.533008</td>\n",
       "      <td>-0.448766</td>\n",
       "      <td>0.411833</td>\n",
       "    </tr>\n",
       "    <tr>\n",
       "      <th>1</th>\n",
       "      <td>-1.241049</td>\n",
       "      <td>-0.318413</td>\n",
       "      <td>-0.081703</td>\n",
       "      <td>1.121307</td>\n",
       "      <td>1.735829</td>\n",
       "      <td>-1.326851</td>\n",
       "    </tr>\n",
       "    <tr>\n",
       "      <th>2</th>\n",
       "      <td>1.316024</td>\n",
       "      <td>-0.668330</td>\n",
       "      <td>0.485641</td>\n",
       "      <td>1.709605</td>\n",
       "      <td>0.160888</td>\n",
       "      <td>-1.326851</td>\n",
       "    </tr>\n",
       "    <tr>\n",
       "      <th>3</th>\n",
       "      <td>-0.299603</td>\n",
       "      <td>-0.318413</td>\n",
       "      <td>0.485641</td>\n",
       "      <td>1.121307</td>\n",
       "      <td>-1.339800</td>\n",
       "      <td>-1.326851</td>\n",
       "    </tr>\n",
       "    <tr>\n",
       "      <th>4</th>\n",
       "      <td>-1.392740</td>\n",
       "      <td>0.441612</td>\n",
       "      <td>0.485641</td>\n",
       "      <td>1.121307</td>\n",
       "      <td>-0.296352</td>\n",
       "      <td>-0.892180</td>\n",
       "    </tr>\n",
       "    <tr>\n",
       "      <th>...</th>\n",
       "      <td>...</td>\n",
       "      <td>...</td>\n",
       "      <td>...</td>\n",
       "      <td>...</td>\n",
       "      <td>...</td>\n",
       "      <td>...</td>\n",
       "    </tr>\n",
       "    <tr>\n",
       "      <th>5762</th>\n",
       "      <td>1.171557</td>\n",
       "      <td>0.356235</td>\n",
       "      <td>-0.081703</td>\n",
       "      <td>1.709605</td>\n",
       "      <td>-1.331983</td>\n",
       "      <td>-1.326851</td>\n",
       "    </tr>\n",
       "    <tr>\n",
       "      <th>5763</th>\n",
       "      <td>0.018225</td>\n",
       "      <td>1.400981</td>\n",
       "      <td>0.485641</td>\n",
       "      <td>-0.643588</td>\n",
       "      <td>0.485256</td>\n",
       "      <td>-0.892180</td>\n",
       "    </tr>\n",
       "    <tr>\n",
       "      <th>5764</th>\n",
       "      <td>0.018225</td>\n",
       "      <td>1.897515</td>\n",
       "      <td>-0.365375</td>\n",
       "      <td>-0.643588</td>\n",
       "      <td>-0.765317</td>\n",
       "      <td>-0.022838</td>\n",
       "    </tr>\n",
       "    <tr>\n",
       "      <th>5765</th>\n",
       "      <td>0.853728</td>\n",
       "      <td>-0.010129</td>\n",
       "      <td>-2.351079</td>\n",
       "      <td>-0.643588</td>\n",
       "      <td>1.677208</td>\n",
       "      <td>1.281176</td>\n",
       "    </tr>\n",
       "    <tr>\n",
       "      <th>5766</th>\n",
       "      <td>-0.831725</td>\n",
       "      <td>0.178455</td>\n",
       "      <td>0.485641</td>\n",
       "      <td>-1.231887</td>\n",
       "      <td>0.727554</td>\n",
       "      <td>-0.022838</td>\n",
       "    </tr>\n",
       "  </tbody>\n",
       "</table>\n",
       "<p>5767 rows × 6 columns</p>\n",
       "</div>"
      ],
      "text/plain": [
       "      Qualification  Experience    Rating   Profile  location      city\n",
       "0         -0.451294    0.763439  0.485641  0.533008 -0.448766  0.411833\n",
       "1         -1.241049   -0.318413 -0.081703  1.121307  1.735829 -1.326851\n",
       "2          1.316024   -0.668330  0.485641  1.709605  0.160888 -1.326851\n",
       "3         -0.299603   -0.318413  0.485641  1.121307 -1.339800 -1.326851\n",
       "4         -1.392740    0.441612  0.485641  1.121307 -0.296352 -0.892180\n",
       "...             ...         ...       ...       ...       ...       ...\n",
       "5762       1.171557    0.356235 -0.081703  1.709605 -1.331983 -1.326851\n",
       "5763       0.018225    1.400981  0.485641 -0.643588  0.485256 -0.892180\n",
       "5764       0.018225    1.897515 -0.365375 -0.643588 -0.765317 -0.022838\n",
       "5765       0.853728   -0.010129 -2.351079 -0.643588  1.677208  1.281176\n",
       "5766      -0.831725    0.178455  0.485641 -1.231887  0.727554 -0.022838\n",
       "\n",
       "[5767 rows x 6 columns]"
      ]
     },
     "execution_count": 344,
     "metadata": {},
     "output_type": "execute_result"
    }
   ],
   "source": [
    "x"
   ]
  },
  {
   "cell_type": "code",
   "execution_count": 345,
   "metadata": {},
   "outputs": [],
   "source": [
    "# Make input and output variables into train and test data\n",
    "from sklearn.model_selection import train_test_split\n",
    "x_train,x_test,y_train,y_test=train_test_split(x,y,random_state=42,test_size=0.20)"
   ]
  },
  {
   "cell_type": "code",
   "execution_count": 346,
   "metadata": {},
   "outputs": [
    {
     "name": "stdout",
     "output_type": "stream",
     "text": [
      "(4613, 6) \t (1154, 6)\n"
     ]
    }
   ],
   "source": [
    "# Checking train and test data size\n",
    "print(x_train.shape,'\\t',x_test.shape)"
   ]
  },
  {
   "cell_type": "code",
   "execution_count": 347,
   "metadata": {},
   "outputs": [
    {
     "name": "stdout",
     "output_type": "stream",
     "text": [
      "(4613, 1) \t (1154, 1)\n"
     ]
    }
   ],
   "source": [
    "print(y_train.shape,'\\t',y_test.shape)"
   ]
  },
  {
   "cell_type": "code",
   "execution_count": 348,
   "metadata": {},
   "outputs": [],
   "source": [
    "# Importing models library\n",
    "\n",
    "from sklearn.linear_model import LinearRegression,Lasso,Ridge,ElasticNet\n",
    "from sklearn.svm import SVR\n",
    "from sklearn.neighbors import KNeighborsRegressor\n",
    "from sklearn.tree import DecisionTreeRegressor\n",
    "# Importing error metrics\n",
    "\n",
    "from sklearn.metrics import mean_squared_error,mean_absolute_error\n",
    "from sklearn.metrics import r2_score"
   ]
  },
  {
   "cell_type": "code",
   "execution_count": 349,
   "metadata": {},
   "outputs": [
    {
     "name": "stdout",
     "output_type": "stream",
     "text": [
      "Score of LinearRegression() is: 0.09430334635074655\n",
      "Error:\n",
      "Mean absolute error: 4.226381456502367\n",
      "Mean squared error: 26.099710038087753\n",
      "Root Mean squared error: 5.108787531116141\n",
      "r2_score: 0.08537765944457709\n",
      "********************************************************************************************\n",
      "\n",
      "\n",
      "Score of Lasso() is: 0.02923423318398377\n",
      "Error:\n",
      "Mean absolute error: 4.38986790097572\n",
      "Mean squared error: 27.68049548858388\n",
      "Root Mean squared error: 5.261225664099943\n",
      "r2_score: 0.0299815770153542\n",
      "********************************************************************************************\n",
      "\n",
      "\n",
      "Score of Ridge() is: 0.0943033429093515\n",
      "Error:\n",
      "Mean absolute error: 4.226389435649059\n",
      "Mean squared error: 26.099692489262047\n",
      "Root Mean squared error: 5.108785813602098\n",
      "r2_score: 0.08537827441493562\n",
      "********************************************************************************************\n",
      "\n",
      "\n",
      "Score of ElasticNet() is: 0.05281154020601175\n",
      "Error:\n",
      "Mean absolute error: 4.324321027337734\n",
      "Mean squared error: 27.0481685941889\n",
      "Root Mean squared error: 5.200785382438782\n",
      "r2_score: 0.05214045553560198\n",
      "********************************************************************************************\n",
      "\n",
      "\n",
      "Score of SVR() is: 0.17557522262756065\n",
      "Error:\n",
      "Mean absolute error: 4.011847780013529\n",
      "Mean squared error: 25.211902817935528\n",
      "Root Mean squared error: 5.021145568287731\n",
      "r2_score: 0.11648943488088093\n",
      "********************************************************************************************\n",
      "\n",
      "\n",
      "Score of KNeighborsRegressor() is: 0.37515007507131326\n",
      "Error:\n",
      "Mean absolute error: 4.168453530235081\n",
      "Mean squared error: 28.086219668865215\n",
      "Root Mean squared error: 5.299643352987559\n",
      "r2_score: 0.015763625978836293\n",
      "********************************************************************************************\n",
      "\n",
      "\n",
      "Score of DecisionTreeRegressor() is: 0.9969892514609751\n",
      "Error:\n",
      "Mean absolute error: 4.714696273036099\n",
      "Mean squared error: 41.22690585395905\n",
      "Root Mean squared error: 6.4208181607922095\n",
      "r2_score: -0.4447305763542795\n",
      "********************************************************************************************\n",
      "\n",
      "\n"
     ]
    }
   ],
   "source": [
    "# Using algorithms via for loop\n",
    "\n",
    "model=[LinearRegression(),Lasso(),Ridge(),ElasticNet(),SVR(),KNeighborsRegressor(),DecisionTreeRegressor()]\n",
    "for p in model:\n",
    "    p.fit(x_train,y_train)\n",
    "    print('Score of', p , 'is:' , p.score(x_train,y_train))\n",
    "    predp=p.predict(x_test)\n",
    "    print('Error:')\n",
    "    print('Mean absolute error:', mean_absolute_error(y_test,predp))\n",
    "    print('Mean squared error:', mean_squared_error(y_test,predp))\n",
    "    print('Root Mean squared error:', np.sqrt(mean_squared_error(y_test,predp)))\n",
    "    print('r2_score:', r2_score(y_test,predp))\n",
    "    print('********************************************************************************************')\n",
    "    print('\\n')"
   ]
  },
  {
   "cell_type": "code",
   "execution_count": 350,
   "metadata": {},
   "outputs": [
    {
     "data": {
      "text/plain": [
       "{'random_state': 84}"
      ]
     },
     "execution_count": 350,
     "metadata": {},
     "output_type": "execute_result"
    }
   ],
   "source": [
    "# Finding out best paramter using GridsearchCV\n",
    "from sklearn.model_selection import GridSearchCV\n",
    "dt=DecisionTreeRegressor()\n",
    "parameters={'random_state':range(42,100)}\n",
    "gc=GridSearchCV(dt,parameters)\n",
    "gc.fit(x,y)\n",
    "gc.best_params_"
   ]
  },
  {
   "cell_type": "code",
   "execution_count": 351,
   "metadata": {},
   "outputs": [
    {
     "name": "stdout",
     "output_type": "stream",
     "text": [
      "Score: 0.9969413928596209\n",
      "\n",
      "\n",
      "Mean absolute error: 4.852727997483572\n",
      "Mean squared error: 45.09644351918113\n",
      "Root Mean squared error: 6.715388560551141\n",
      "\n",
      "\n",
      "r2_score: -0.5803322972572329\n"
     ]
    }
   ],
   "source": [
    "#Using DecisionTreeRegressor model with best results\n",
    "\n",
    "dtc=DecisionTreeRegressor(criterion='mae',random_state=84)\n",
    "dtc.fit(x_train,y_train)\n",
    "print('Score:', dtc.score(x_train,y_train))\n",
    "preddt=dtc.predict(x_test)\n",
    "print('\\n')\n",
    "print('Mean absolute error:', mean_absolute_error(y_test,preddt))\n",
    "print('Mean squared error:', mean_squared_error(y_test,preddt))\n",
    "print('Root Mean squared error:', np.sqrt(mean_squared_error(y_test,preddt)))\n",
    "print('\\n')\n",
    "print('r2_score:', r2_score(y_test,preddt))"
   ]
  },
  {
   "cell_type": "markdown",
   "metadata": {},
   "source": [
    "Using Ensemble Technique to boostup score"
   ]
  },
  {
   "cell_type": "code",
   "execution_count": 352,
   "metadata": {},
   "outputs": [
    {
     "name": "stdout",
     "output_type": "stream",
     "text": [
      "score: 0.882261894431657\n",
      "\n",
      "\n",
      "Mean absolute error: 3.810183707874488\n",
      "Mean squared error: 23.7300839995009\n",
      "Root Mean squared error: 4.871353405317756\n",
      "\n",
      "\n",
      "r2_score: 0.1684173909393174\n"
     ]
    }
   ],
   "source": [
    "from sklearn.ensemble import RandomForestRegressor\n",
    "\n",
    "rf=RandomForestRegressor(n_estimators=100,random_state=70)\n",
    "rf.fit(x_train,y_train)\n",
    "print('score:',rf.score(x_train,y_train))\n",
    "predrf=rf.predict(x_test)\n",
    "print('\\n')\n",
    "print('Mean absolute error:', mean_absolute_error(y_test,predrf))\n",
    "print('Mean squared error:', mean_squared_error(y_test,predrf))\n",
    "print('Root Mean squared error:', np.sqrt(mean_squared_error(y_test,predrf)))\n",
    "print('\\n')\n",
    "print('r2_score:', r2_score(y_test,predrf))"
   ]
  },
  {
   "cell_type": "code",
   "execution_count": 354,
   "metadata": {},
   "outputs": [
    {
     "name": "stdout",
     "output_type": "stream",
     "text": [
      "score: 0.99087236811381\n",
      "\n",
      "\n",
      "Mean absolute error: 3.9505669971228254\n",
      "Mean squared error: 29.806176515129902\n",
      "Root Mean squared error: 5.4595033212857285\n",
      "\n",
      "\n",
      "r2_score: -0.04450949407074534\n"
     ]
    }
   ],
   "source": [
    "from sklearn.ensemble import AdaBoostRegressor\n",
    "\n",
    "\n",
    "ad=AdaBoostRegressor(base_estimator=dtc,n_estimators=20,learning_rate=1.0,random_state=84)\n",
    "ad.fit(x_train,y_train)\n",
    "print('score:',ad.score(x_train,y_train))\n",
    "predad=ad.predict(x_test)\n",
    "print('\\n')\n",
    "print('Mean absolute error:', mean_absolute_error(y_test,predad))\n",
    "print('Mean squared error:', mean_squared_error(y_test,predad))\n",
    "print('Root Mean squared error:', np.sqrt(mean_squared_error(y_test,predad)))\n",
    "print('\\n')\n",
    "print('r2_score:', r2_score(y_test,predad))"
   ]
  },
  {
   "cell_type": "code",
   "execution_count": 355,
   "metadata": {},
   "outputs": [
    {
     "name": "stdout",
     "output_type": "stream",
     "text": [
      "Score: [-0.06243205 -0.00770283 -0.02501795 -0.01571422  0.00522099]\n",
      "Mean Score: 0.0229127456834754\n",
      "Standard Deviation: 0.0229127456834754\n"
     ]
    }
   ],
   "source": [
    "# Cross validate of RandomForestRegressor\n",
    "from sklearn.model_selection import cross_val_score\n",
    "score=cross_val_score(ad,x,y,cv=5,scoring='r2')\n",
    "print('Score:', score)\n",
    "print('Mean Score:', score.std())\n",
    "print('Standard Deviation:', score.std())"
   ]
  },
  {
   "cell_type": "code",
   "execution_count": 356,
   "metadata": {},
   "outputs": [
    {
     "data": {
      "image/png": "[encoded data removed]",
      "text/plain": [
       "<Figure size 432x288 with 1 Axes>"
      ]
     },
     "metadata": {
      "needs_background": "light"
     },
     "output_type": "display_data"
    }
   ],
   "source": [
    "plt.scatter(y_test,predrf)\n",
    "plt.xlabel('y_test')\n",
    "plt.ylabel('Predicted y')\n",
    "plt.title('Test data and predicted data')\n",
    "plt.show()"
   ]
  },
  {
   "cell_type": "code",
   "execution_count": 357,
   "metadata": {},
   "outputs": [
    {
     "data": {
      "image/png": "[encoded data removed]",
      "text/plain": [
       "<Figure size 432x288 with 1 Axes>"
      ]
     },
     "metadata": {
      "needs_background": "light"
     },
     "output_type": "display_data"
    }
   ],
   "source": [
    "plt.scatter(y_test,predad)\n",
    "plt.xlabel('y_test')\n",
    "plt.ylabel('Predicted y')\n",
    "plt.title('Test data and predicted data')\n",
    "plt.show()"
   ]
  },
  {
   "cell_type": "code",
   "execution_count": 358,
   "metadata": {},
   "outputs": [
    {
     "data": {
      "text/plain": [
       "['Train A Doctor Consultation Fee Evaluation project.pkl']"
      ]
     },
     "execution_count": 358,
     "metadata": {},
     "output_type": "execute_result"
    }
   ],
   "source": [
    "# Saving the AdaBoostRegressor\n",
    "import joblib\n",
    "joblib.dump(ad,'Train A Doctor Consultation Fee Evaluation project.pkl')"
   ]
  },
  {
   "cell_type": "code",
   "execution_count": null,
   "metadata": {},
   "outputs": [],
   "source": []
  }
 ],
 "metadata": {
  "kernelspec": {
   "display_name": "Python 3",
   "language": "python",
   "name": "python3"
  },
  "language_info": {
   "codemirror_mode": {
    "name": "ipython",
    "version": 3
   },
   "file_extension": ".py",
   "mimetype": "text/x-python",
   "name": "python",
   "nbconvert_exporter": "python",
   "pygments_lexer": "ipython3",
   "version": "3.8.3"
  }
 },
 "nbformat": 4,
 "nbformat_minor": 4
}
